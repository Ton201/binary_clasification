{
 "cells": [
  {
   "cell_type": "code",
   "execution_count": 2,
   "id": "f680e188-4007-44cd-88a0-ff734fa56ceb",
   "metadata": {
    "tags": []
   },
   "outputs": [],
   "source": [
    "import string\n",
    "import math\n",
    "import pandas as pd\n",
    "import numpy as np\n",
    "\n",
    "import matplotlib.pyplot as plt\n",
    "%matplotlib inline \n",
    "from sklearn.tree import DecisionTreeClassifier\n",
    "import sklearn.metrics as metrics"
   ]
  },
  {
   "cell_type": "code",
   "execution_count": 3,
   "id": "273f3613-d9ac-4f69-bb8f-af8e3414f7ae",
   "metadata": {
    "tags": []
   },
   "outputs": [
    {
     "data": {
      "text/html": [
       "<div>\n",
       "<style scoped>\n",
       "    .dataframe tbody tr th:only-of-type {\n",
       "        vertical-align: middle;\n",
       "    }\n",
       "\n",
       "    .dataframe tbody tr th {\n",
       "        vertical-align: top;\n",
       "    }\n",
       "\n",
       "    .dataframe thead th {\n",
       "        text-align: right;\n",
       "    }\n",
       "</style>\n",
       "<table border=\"1\" class=\"dataframe\">\n",
       "  <thead>\n",
       "    <tr style=\"text-align: right;\">\n",
       "      <th></th>\n",
       "      <th>ID</th>\n",
       "      <th>survived</th>\n",
       "      <th>pclass</th>\n",
       "      <th>name</th>\n",
       "      <th>sex</th>\n",
       "      <th>age</th>\n",
       "      <th>sibsp</th>\n",
       "      <th>parch</th>\n",
       "      <th>ticket</th>\n",
       "      <th>fare</th>\n",
       "      <th>cabin</th>\n",
       "      <th>embarked</th>\n",
       "      <th>home.dest</th>\n",
       "    </tr>\n",
       "  </thead>\n",
       "  <tbody>\n",
       "    <tr>\n",
       "      <th>0</th>\n",
       "      <td>0</td>\n",
       "      <td>0</td>\n",
       "      <td>3</td>\n",
       "      <td>Goodwin, Master. William Frederick</td>\n",
       "      <td>male</td>\n",
       "      <td>11.0</td>\n",
       "      <td>5</td>\n",
       "      <td>2</td>\n",
       "      <td>CA 2144</td>\n",
       "      <td>46.9000</td>\n",
       "      <td>NaN</td>\n",
       "      <td>S</td>\n",
       "      <td>Wiltshire, England Niagara Falls, NY</td>\n",
       "    </tr>\n",
       "    <tr>\n",
       "      <th>1</th>\n",
       "      <td>1</td>\n",
       "      <td>0</td>\n",
       "      <td>3</td>\n",
       "      <td>Jardin, Mr. Jose Neto</td>\n",
       "      <td>male</td>\n",
       "      <td>NaN</td>\n",
       "      <td>0</td>\n",
       "      <td>0</td>\n",
       "      <td>SOTON/O.Q. 3101305</td>\n",
       "      <td>7.0500</td>\n",
       "      <td>NaN</td>\n",
       "      <td>S</td>\n",
       "      <td>NaN</td>\n",
       "    </tr>\n",
       "    <tr>\n",
       "      <th>2</th>\n",
       "      <td>2</td>\n",
       "      <td>0</td>\n",
       "      <td>3</td>\n",
       "      <td>Skoog, Master. Harald</td>\n",
       "      <td>male</td>\n",
       "      <td>4.0</td>\n",
       "      <td>3</td>\n",
       "      <td>2</td>\n",
       "      <td>347088</td>\n",
       "      <td>27.9000</td>\n",
       "      <td>NaN</td>\n",
       "      <td>S</td>\n",
       "      <td>NaN</td>\n",
       "    </tr>\n",
       "    <tr>\n",
       "      <th>3</th>\n",
       "      <td>3</td>\n",
       "      <td>1</td>\n",
       "      <td>3</td>\n",
       "      <td>O'Brien, Mrs. Thomas (Johanna \"Hannah\" Godfrey)</td>\n",
       "      <td>female</td>\n",
       "      <td>NaN</td>\n",
       "      <td>1</td>\n",
       "      <td>0</td>\n",
       "      <td>370365</td>\n",
       "      <td>15.5000</td>\n",
       "      <td>NaN</td>\n",
       "      <td>Q</td>\n",
       "      <td>NaN</td>\n",
       "    </tr>\n",
       "    <tr>\n",
       "      <th>4</th>\n",
       "      <td>4</td>\n",
       "      <td>1</td>\n",
       "      <td>3</td>\n",
       "      <td>Abrahim, Mrs. Joseph (Sophie Halaut Easu)</td>\n",
       "      <td>female</td>\n",
       "      <td>18.0</td>\n",
       "      <td>0</td>\n",
       "      <td>0</td>\n",
       "      <td>2657</td>\n",
       "      <td>7.2292</td>\n",
       "      <td>NaN</td>\n",
       "      <td>C</td>\n",
       "      <td>Greensburg, PA</td>\n",
       "    </tr>\n",
       "    <tr>\n",
       "      <th>5</th>\n",
       "      <td>5</td>\n",
       "      <td>0</td>\n",
       "      <td>2</td>\n",
       "      <td>Giles, Mr. Frederick Edward</td>\n",
       "      <td>male</td>\n",
       "      <td>21.0</td>\n",
       "      <td>1</td>\n",
       "      <td>0</td>\n",
       "      <td>28134</td>\n",
       "      <td>11.5000</td>\n",
       "      <td>NaN</td>\n",
       "      <td>S</td>\n",
       "      <td>Cornwall / Camden, NJ</td>\n",
       "    </tr>\n",
       "    <tr>\n",
       "      <th>6</th>\n",
       "      <td>6</td>\n",
       "      <td>0</td>\n",
       "      <td>3</td>\n",
       "      <td>Williams, Mr. Leslie</td>\n",
       "      <td>male</td>\n",
       "      <td>28.5</td>\n",
       "      <td>0</td>\n",
       "      <td>0</td>\n",
       "      <td>54636</td>\n",
       "      <td>16.1000</td>\n",
       "      <td>NaN</td>\n",
       "      <td>S</td>\n",
       "      <td>NaN</td>\n",
       "    </tr>\n",
       "    <tr>\n",
       "      <th>7</th>\n",
       "      <td>7</td>\n",
       "      <td>0</td>\n",
       "      <td>3</td>\n",
       "      <td>Johansson, Mr. Gustaf Joel</td>\n",
       "      <td>male</td>\n",
       "      <td>33.0</td>\n",
       "      <td>0</td>\n",
       "      <td>0</td>\n",
       "      <td>7540</td>\n",
       "      <td>8.6542</td>\n",
       "      <td>NaN</td>\n",
       "      <td>S</td>\n",
       "      <td>NaN</td>\n",
       "    </tr>\n",
       "    <tr>\n",
       "      <th>8</th>\n",
       "      <td>8</td>\n",
       "      <td>0</td>\n",
       "      <td>2</td>\n",
       "      <td>Norman, Mr. Robert Douglas</td>\n",
       "      <td>male</td>\n",
       "      <td>28.0</td>\n",
       "      <td>0</td>\n",
       "      <td>0</td>\n",
       "      <td>218629</td>\n",
       "      <td>13.5000</td>\n",
       "      <td>NaN</td>\n",
       "      <td>S</td>\n",
       "      <td>Glasgow</td>\n",
       "    </tr>\n",
       "    <tr>\n",
       "      <th>9</th>\n",
       "      <td>9</td>\n",
       "      <td>1</td>\n",
       "      <td>3</td>\n",
       "      <td>Nicola-Yarred, Miss. Jamila</td>\n",
       "      <td>female</td>\n",
       "      <td>14.0</td>\n",
       "      <td>1</td>\n",
       "      <td>0</td>\n",
       "      <td>2651</td>\n",
       "      <td>11.2417</td>\n",
       "      <td>NaN</td>\n",
       "      <td>C</td>\n",
       "      <td>NaN</td>\n",
       "    </tr>\n",
       "    <tr>\n",
       "      <th>10</th>\n",
       "      <td>10</td>\n",
       "      <td>1</td>\n",
       "      <td>2</td>\n",
       "      <td>Drew, Master. Marshall Brines</td>\n",
       "      <td>male</td>\n",
       "      <td>8.0</td>\n",
       "      <td>0</td>\n",
       "      <td>2</td>\n",
       "      <td>28220</td>\n",
       "      <td>32.5000</td>\n",
       "      <td>NaN</td>\n",
       "      <td>S</td>\n",
       "      <td>Greenport, NY</td>\n",
       "    </tr>\n",
       "    <tr>\n",
       "      <th>11</th>\n",
       "      <td>11</td>\n",
       "      <td>0</td>\n",
       "      <td>3</td>\n",
       "      <td>O'Connor, Mr. Patrick</td>\n",
       "      <td>male</td>\n",
       "      <td>NaN</td>\n",
       "      <td>0</td>\n",
       "      <td>0</td>\n",
       "      <td>366713</td>\n",
       "      <td>7.7500</td>\n",
       "      <td>NaN</td>\n",
       "      <td>Q</td>\n",
       "      <td>NaN</td>\n",
       "    </tr>\n",
       "    <tr>\n",
       "      <th>12</th>\n",
       "      <td>12</td>\n",
       "      <td>1</td>\n",
       "      <td>2</td>\n",
       "      <td>Harris, Mr. George</td>\n",
       "      <td>male</td>\n",
       "      <td>62.0</td>\n",
       "      <td>0</td>\n",
       "      <td>0</td>\n",
       "      <td>S.W./PP 752</td>\n",
       "      <td>10.5000</td>\n",
       "      <td>NaN</td>\n",
       "      <td>S</td>\n",
       "      <td>London</td>\n",
       "    </tr>\n",
       "    <tr>\n",
       "      <th>13</th>\n",
       "      <td>13</td>\n",
       "      <td>0</td>\n",
       "      <td>3</td>\n",
       "      <td>Van Impe, Mrs. Jean Baptiste (Rosalie Paula Go...</td>\n",
       "      <td>female</td>\n",
       "      <td>30.0</td>\n",
       "      <td>1</td>\n",
       "      <td>1</td>\n",
       "      <td>345773</td>\n",
       "      <td>24.1500</td>\n",
       "      <td>NaN</td>\n",
       "      <td>S</td>\n",
       "      <td>NaN</td>\n",
       "    </tr>\n",
       "    <tr>\n",
       "      <th>14</th>\n",
       "      <td>14</td>\n",
       "      <td>0</td>\n",
       "      <td>1</td>\n",
       "      <td>Ostby, Mr. Engelhart Cornelius</td>\n",
       "      <td>male</td>\n",
       "      <td>65.0</td>\n",
       "      <td>0</td>\n",
       "      <td>1</td>\n",
       "      <td>113509</td>\n",
       "      <td>61.9792</td>\n",
       "      <td>B30</td>\n",
       "      <td>C</td>\n",
       "      <td>Providence, RI</td>\n",
       "    </tr>\n",
       "  </tbody>\n",
       "</table>\n",
       "</div>"
      ],
      "text/plain": [
       "    ID  survived  pclass                                               name  \\\n",
       "0    0         0       3                 Goodwin, Master. William Frederick   \n",
       "1    1         0       3                              Jardin, Mr. Jose Neto   \n",
       "2    2         0       3                              Skoog, Master. Harald   \n",
       "3    3         1       3    O'Brien, Mrs. Thomas (Johanna \"Hannah\" Godfrey)   \n",
       "4    4         1       3          Abrahim, Mrs. Joseph (Sophie Halaut Easu)   \n",
       "5    5         0       2                        Giles, Mr. Frederick Edward   \n",
       "6    6         0       3                               Williams, Mr. Leslie   \n",
       "7    7         0       3                         Johansson, Mr. Gustaf Joel   \n",
       "8    8         0       2                         Norman, Mr. Robert Douglas   \n",
       "9    9         1       3                        Nicola-Yarred, Miss. Jamila   \n",
       "10  10         1       2                      Drew, Master. Marshall Brines   \n",
       "11  11         0       3                              O'Connor, Mr. Patrick   \n",
       "12  12         1       2                                 Harris, Mr. George   \n",
       "13  13         0       3  Van Impe, Mrs. Jean Baptiste (Rosalie Paula Go...   \n",
       "14  14         0       1                     Ostby, Mr. Engelhart Cornelius   \n",
       "\n",
       "       sex   age  sibsp  parch              ticket     fare cabin embarked  \\\n",
       "0     male  11.0      5      2             CA 2144  46.9000   NaN        S   \n",
       "1     male   NaN      0      0  SOTON/O.Q. 3101305   7.0500   NaN        S   \n",
       "2     male   4.0      3      2              347088  27.9000   NaN        S   \n",
       "3   female   NaN      1      0              370365  15.5000   NaN        Q   \n",
       "4   female  18.0      0      0                2657   7.2292   NaN        C   \n",
       "5     male  21.0      1      0               28134  11.5000   NaN        S   \n",
       "6     male  28.5      0      0               54636  16.1000   NaN        S   \n",
       "7     male  33.0      0      0                7540   8.6542   NaN        S   \n",
       "8     male  28.0      0      0              218629  13.5000   NaN        S   \n",
       "9   female  14.0      1      0                2651  11.2417   NaN        C   \n",
       "10    male   8.0      0      2               28220  32.5000   NaN        S   \n",
       "11    male   NaN      0      0              366713   7.7500   NaN        Q   \n",
       "12    male  62.0      0      0         S.W./PP 752  10.5000   NaN        S   \n",
       "13  female  30.0      1      1              345773  24.1500   NaN        S   \n",
       "14    male  65.0      0      1              113509  61.9792   B30        C   \n",
       "\n",
       "                               home.dest  \n",
       "0   Wiltshire, England Niagara Falls, NY  \n",
       "1                                    NaN  \n",
       "2                                    NaN  \n",
       "3                                    NaN  \n",
       "4                         Greensburg, PA  \n",
       "5                  Cornwall / Camden, NJ  \n",
       "6                                    NaN  \n",
       "7                                    NaN  \n",
       "8                                Glasgow  \n",
       "9                                    NaN  \n",
       "10                         Greenport, NY  \n",
       "11                                   NaN  \n",
       "12                                London  \n",
       "13                                   NaN  \n",
       "14                        Providence, RI  "
      ]
     },
     "metadata": {},
     "output_type": "display_data"
    }
   ],
   "source": [
    "df = pd.read_table(\"data.csv\", sep = \",\")\n",
    "display(df.head(n=15))"
   ]
  },
  {
   "cell_type": "code",
   "execution_count": 4,
   "id": "b92bb5e5-51df-46ab-9ca3-a29491f48a13",
   "metadata": {
    "tags": []
   },
   "outputs": [],
   "source": [
    "data_OG = df"
   ]
  },
  {
   "cell_type": "markdown",
   "id": "b9e29d52-5738-4c59-832b-254f95b895f5",
   "metadata": {},
   "source": [
    "# Předzpracování dat\n",
    "Nechám si vypsat zákkladní údaje o datech. Obzvlástě mě oak zajímají datové typy a počty unikátních hodnot jednotlivých příznaků."
   ]
  },
  {
   "cell_type": "code",
   "execution_count": 5,
   "id": "82c45b31-912b-47ad-8dac-6db20d7ae2d8",
   "metadata": {
    "tags": []
   },
   "outputs": [
    {
     "data": {
      "text/plain": [
       "(1000, 13)"
      ]
     },
     "metadata": {},
     "output_type": "display_data"
    },
    {
     "name": "stdout",
     "output_type": "stream",
     "text": [
      "<class 'pandas.core.frame.DataFrame'>\n",
      "RangeIndex: 1000 entries, 0 to 999\n",
      "Data columns (total 13 columns):\n",
      " #   Column     Non-Null Count  Dtype  \n",
      "---  ------     --------------  -----  \n",
      " 0   ID         1000 non-null   int64  \n",
      " 1   survived   1000 non-null   int64  \n",
      " 2   pclass     1000 non-null   int64  \n",
      " 3   name       1000 non-null   object \n",
      " 4   sex        1000 non-null   object \n",
      " 5   age        802 non-null    float64\n",
      " 6   sibsp      1000 non-null   int64  \n",
      " 7   parch      1000 non-null   int64  \n",
      " 8   ticket     1000 non-null   object \n",
      " 9   fare       999 non-null    float64\n",
      " 10  cabin      233 non-null    object \n",
      " 11  embarked   998 non-null    object \n",
      " 12  home.dest  566 non-null    object \n",
      "dtypes: float64(2), int64(5), object(6)\n",
      "memory usage: 101.7+ KB\n"
     ]
    },
    {
     "data": {
      "text/plain": [
       "None"
      ]
     },
     "metadata": {},
     "output_type": "display_data"
    },
    {
     "data": {
      "text/html": [
       "<div>\n",
       "<style scoped>\n",
       "    .dataframe tbody tr th:only-of-type {\n",
       "        vertical-align: middle;\n",
       "    }\n",
       "\n",
       "    .dataframe tbody tr th {\n",
       "        vertical-align: top;\n",
       "    }\n",
       "\n",
       "    .dataframe thead th {\n",
       "        text-align: right;\n",
       "    }\n",
       "</style>\n",
       "<table border=\"1\" class=\"dataframe\">\n",
       "  <thead>\n",
       "    <tr style=\"text-align: right;\">\n",
       "      <th></th>\n",
       "      <th>ID</th>\n",
       "      <th>survived</th>\n",
       "      <th>pclass</th>\n",
       "      <th>age</th>\n",
       "      <th>sibsp</th>\n",
       "      <th>parch</th>\n",
       "      <th>fare</th>\n",
       "    </tr>\n",
       "  </thead>\n",
       "  <tbody>\n",
       "    <tr>\n",
       "      <th>count</th>\n",
       "      <td>1000.000000</td>\n",
       "      <td>1000.00000</td>\n",
       "      <td>1000.000000</td>\n",
       "      <td>802.000000</td>\n",
       "      <td>1000.000000</td>\n",
       "      <td>1000.00000</td>\n",
       "      <td>999.000000</td>\n",
       "    </tr>\n",
       "    <tr>\n",
       "      <th>mean</th>\n",
       "      <td>499.500000</td>\n",
       "      <td>0.39800</td>\n",
       "      <td>2.288000</td>\n",
       "      <td>29.850686</td>\n",
       "      <td>0.496000</td>\n",
       "      <td>0.40200</td>\n",
       "      <td>34.264352</td>\n",
       "    </tr>\n",
       "    <tr>\n",
       "      <th>std</th>\n",
       "      <td>288.819436</td>\n",
       "      <td>0.48973</td>\n",
       "      <td>0.840096</td>\n",
       "      <td>14.328743</td>\n",
       "      <td>1.024223</td>\n",
       "      <td>0.91719</td>\n",
       "      <td>53.315077</td>\n",
       "    </tr>\n",
       "    <tr>\n",
       "      <th>min</th>\n",
       "      <td>0.000000</td>\n",
       "      <td>0.00000</td>\n",
       "      <td>1.000000</td>\n",
       "      <td>0.166700</td>\n",
       "      <td>0.000000</td>\n",
       "      <td>0.00000</td>\n",
       "      <td>0.000000</td>\n",
       "    </tr>\n",
       "    <tr>\n",
       "      <th>25%</th>\n",
       "      <td>249.750000</td>\n",
       "      <td>0.00000</td>\n",
       "      <td>1.750000</td>\n",
       "      <td>21.000000</td>\n",
       "      <td>0.000000</td>\n",
       "      <td>0.00000</td>\n",
       "      <td>7.925000</td>\n",
       "    </tr>\n",
       "    <tr>\n",
       "      <th>50%</th>\n",
       "      <td>499.500000</td>\n",
       "      <td>0.00000</td>\n",
       "      <td>3.000000</td>\n",
       "      <td>28.000000</td>\n",
       "      <td>0.000000</td>\n",
       "      <td>0.00000</td>\n",
       "      <td>14.458300</td>\n",
       "    </tr>\n",
       "    <tr>\n",
       "      <th>75%</th>\n",
       "      <td>749.250000</td>\n",
       "      <td>1.00000</td>\n",
       "      <td>3.000000</td>\n",
       "      <td>39.000000</td>\n",
       "      <td>1.000000</td>\n",
       "      <td>0.00000</td>\n",
       "      <td>31.275000</td>\n",
       "    </tr>\n",
       "    <tr>\n",
       "      <th>max</th>\n",
       "      <td>999.000000</td>\n",
       "      <td>1.00000</td>\n",
       "      <td>3.000000</td>\n",
       "      <td>80.000000</td>\n",
       "      <td>8.000000</td>\n",
       "      <td>9.00000</td>\n",
       "      <td>512.329200</td>\n",
       "    </tr>\n",
       "  </tbody>\n",
       "</table>\n",
       "</div>"
      ],
      "text/plain": [
       "                ID    survived       pclass         age        sibsp  \\\n",
       "count  1000.000000  1000.00000  1000.000000  802.000000  1000.000000   \n",
       "mean    499.500000     0.39800     2.288000   29.850686     0.496000   \n",
       "std     288.819436     0.48973     0.840096   14.328743     1.024223   \n",
       "min       0.000000     0.00000     1.000000    0.166700     0.000000   \n",
       "25%     249.750000     0.00000     1.750000   21.000000     0.000000   \n",
       "50%     499.500000     0.00000     3.000000   28.000000     0.000000   \n",
       "75%     749.250000     1.00000     3.000000   39.000000     1.000000   \n",
       "max     999.000000     1.00000     3.000000   80.000000     8.000000   \n",
       "\n",
       "            parch        fare  \n",
       "count  1000.00000  999.000000  \n",
       "mean      0.40200   34.264352  \n",
       "std       0.91719   53.315077  \n",
       "min       0.00000    0.000000  \n",
       "25%       0.00000    7.925000  \n",
       "50%       0.00000   14.458300  \n",
       "75%       0.00000   31.275000  \n",
       "max       9.00000  512.329200  "
      ]
     },
     "metadata": {},
     "output_type": "display_data"
    },
    {
     "data": {
      "text/plain": [
       "ID           1000\n",
       "survived        2\n",
       "pclass          3\n",
       "name          999\n",
       "sex             2\n",
       "age            95\n",
       "sibsp           7\n",
       "parch           8\n",
       "ticket        746\n",
       "fare          254\n",
       "cabin         157\n",
       "embarked        3\n",
       "home.dest     313\n",
       "dtype: int64"
      ]
     },
     "metadata": {},
     "output_type": "display_data"
    },
    {
     "data": {
      "text/plain": [
       "ID             int64\n",
       "survived       int64\n",
       "pclass         int64\n",
       "name          object\n",
       "sex           object\n",
       "age          float64\n",
       "sibsp          int64\n",
       "parch          int64\n",
       "ticket        object\n",
       "fare         float64\n",
       "cabin         object\n",
       "embarked      object\n",
       "home.dest     object\n",
       "dtype: object"
      ]
     },
     "metadata": {},
     "output_type": "display_data"
    }
   ],
   "source": [
    "display(df.shape)\n",
    "display(df.info())\n",
    "display(df.describe())\n",
    "display(df.nunique())\n",
    "display(df.dtypes)"
   ]
  },
  {
   "cell_type": "markdown",
   "id": "a6155620-b102-4bfe-98e6-4d3c376abe0a",
   "metadata": {},
   "source": [
    "U indexu cabin je vidět málo hodnot. Můžu předpokládat, že 1000 cestujících nebydlelo pouze v 313 kabinách. Pro ověřeni spočítám počet NaN u daného příznaku. "
   ]
  },
  {
   "cell_type": "code",
   "execution_count": 6,
   "id": "ad3d4208-8947-4e81-93bd-904765ef22a3",
   "metadata": {
    "tags": []
   },
   "outputs": [
    {
     "data": {
      "text/plain": [
       "767"
      ]
     },
     "execution_count": 6,
     "metadata": {},
     "output_type": "execute_result"
    }
   ],
   "source": [
    "df.cabin.isnull().sum()"
   ]
  },
  {
   "cell_type": "markdown",
   "id": "ba1398d4-32be-4f7c-85a3-0c755bb6a0ba",
   "metadata": {},
   "source": [
    "Data chybějí u více než čtvrtiny cestujících. Navíc nejde ani o binární příznak. Pro rozhodovací strom nebude příliš užitečný. "
   ]
  },
  {
   "cell_type": "code",
   "execution_count": 7,
   "id": "dc00989e-adcc-4bca-879f-c1b1c9d877d8",
   "metadata": {
    "tags": []
   },
   "outputs": [
    {
     "data": {
      "text/plain": [
       "array([nan, 'B30', 'C49', 'C83', 'F4', 'C99', 'C62 C64',\n",
       "       'B57 B59 B63 B66', 'B102', 'B58 B60', 'B5', 'D20', 'D40', 'B101',\n",
       "       'B37', 'F E57', 'C78', 'E121', 'B41', 'C116', 'E58', 'C124', 'D15',\n",
       "       'E77', 'B69', 'E101', 'C52', 'C92', 'D19', 'C23 C25 C27', 'D17',\n",
       "       'B24', 'B96 B98', 'B22', 'D', 'B50', 'C22 C26', 'B45', 'C103',\n",
       "       'D46', 'B39', 'B35', 'E25', 'C65', 'F38', 'A24', 'C47', 'C91',\n",
       "       'C7', 'F2', 'E24', 'C80', 'A6', 'C148', 'C106', 'E12', 'C54',\n",
       "       'D30', 'B73', 'D28', 'C123', 'C51', 'E63', 'A19', 'F G63', 'E46',\n",
       "       'C46', 'C126', 'B49', 'D37', 'E36', 'B18', 'D26', 'B77', 'A11',\n",
       "       'A34', 'A20', 'B79', 'E44', 'C93', 'D33', 'F33', 'A5', 'D36',\n",
       "       'C32', 'B28', 'C89', 'C39', 'C30', 'C101', 'B71', 'E10', 'E33',\n",
       "       'D11', 'C55 C57', 'F E69', 'B10', 'B51 B53 B55', 'B4', 'E52', 'F',\n",
       "       'E34', 'E67', 'A31', 'D50', 'E60', 'A18', 'G6', 'D48', 'C132',\n",
       "       'A7', 'C68', 'A36', 'D56', 'A23', 'C2', 'C105', 'D22', 'D35',\n",
       "       'B78', 'D38', 'E50', 'C125', 'E8', 'E39 E41', 'B20', 'T', 'B94',\n",
       "       'B19', 'C6', 'C90', 'C128', 'D10 D12', 'A9', 'A10', 'C50', 'B42',\n",
       "       'C97', 'B52 B54 B56', 'E49', 'A14', 'C86', 'C111', 'A26', 'C31',\n",
       "       'D45', 'C95', 'D6', 'C118', 'B82 B84', 'B38', 'F G73', 'C53',\n",
       "       'C70', 'B61', 'D47', 'F E46', 'D7'], dtype=object)"
      ]
     },
     "execution_count": 7,
     "metadata": {},
     "output_type": "execute_result"
    }
   ],
   "source": [
    "df.cabin.unique()"
   ]
  },
  {
   "cell_type": "markdown",
   "id": "fed20bcd-db5e-42ce-936e-c7848f5c83d9",
   "metadata": {},
   "source": [
    "U přiznaku home.dest je 313 unikátních hodnot, nejsou ordinální => adept na vyřazení z příznaků, protože 313 dummy příznaků se zdá být příliš."
   ]
  },
  {
   "cell_type": "code",
   "execution_count": 8,
   "id": "1ecc4315-6449-4f2b-814a-7f4dffc99db7",
   "metadata": {
    "tags": []
   },
   "outputs": [
    {
     "data": {
      "text/plain": [
       "array(['Wiltshire, England Niagara Falls, NY', nan, 'Greensburg, PA',\n",
       "       'Cornwall / Camden, NJ', 'Glasgow', 'Greenport, NY', 'London',\n",
       "       'Providence, RI', 'Paris, France New York, NY', 'New York, NY',\n",
       "       'Minneapolis, MN', 'London / Chicago, IL',\n",
       "       'Guntur, India / Benton Harbour, MI', 'Denmark / New York, NY',\n",
       "       'Ilfracombe, Devon', 'Cornwall, England Houghton, MI',\n",
       "       'Harrow-on-the-Hill, Middlesex', 'Haverford, PA / Cooperstown, NY',\n",
       "       'Halesworth, England', 'Newark, NJ', 'Cornwall / Hancock, MI',\n",
       "       'Ireland', 'London, England Norfolk, VA', 'Paris / Haiti',\n",
       "       'Montreal, PQ', 'Stockholm, Sweden', 'Southampton', 'Croatia',\n",
       "       'North Evington, England', 'St Louis, MO', 'Brookline, MA',\n",
       "       'Aughnacliff, Co Longford, Ireland New York, NY',\n",
       "       'Bangkok, Thailand / Roseville, IL',\n",
       "       'Oskarshamn, Sweden Minneapolis, MN', 'Portugal', 'Buffalo, NY',\n",
       "       'England / San Francisco, CA', 'Green Bay, WI',\n",
       "       'Zurich, Switzerland', 'Bulgaria Chicago, IL', 'Guernsey',\n",
       "       'Krakudden, Sweden Moune, IL', 'Victoria, BC',\n",
       "       'Isle of Wight, England', 'Ilford, Essex / Winnipeg, MB',\n",
       "       'Roachdale, IN', 'Surbiton Hill, Surrey', 'Philadelphia, PA',\n",
       "       'West Bromwich, England Pontiac, MI',\n",
       "       'Bishopstoke, Hants / Fayette Valley, ID', 'Stanton, IA',\n",
       "       'Salo, Finland Astoria, OR', 'Brooklyn, NY',\n",
       "       'Broomfield, Chelmsford, England', 'Syria Kent, ON',\n",
       "       'Southampton / New York, NY', 'Syria Fredericksburg, VA',\n",
       "       'Guernsey / Elizabeth, NJ', 'Barre, Co Washington, VT',\n",
       "       'Harrisburg, PA', 'Union Hill, NJ', 'London, England',\n",
       "       'Indianapolis, IN', 'Paris, France / New York, NY',\n",
       "       'West Kensington, London', 'Boston, MA', 'Hartford, CT',\n",
       "       'Paris / Montreal, PQ', 'Winnipeg, MB', 'Spain / Havana, Cuba',\n",
       "       'Cornwall / Akron, OH', 'Krakoryd, Sweden Bloomington, IL',\n",
       "       'Bryn Mawr, PA', 'Milwaukee, WI', 'India / Rapid City, SD',\n",
       "       'Basel, Switzerland', 'Montreal, PQ / Chesterville, ON',\n",
       "       'England / Philadelphia, PA', 'Birkdale, England Cleveland, Ohio',\n",
       "       'East Orange, NJ', 'Cornwall', 'Lake Arthur, Chavez County, NM',\n",
       "       'Bridgerule, Devon', 'England New York, NY', 'Madrid, Spain',\n",
       "       'Myren, Sweden New York, NY', 'Trenton, NJ',\n",
       "       'Penzance, Cornwall / Akron, OH', 'Paris, France',\n",
       "       'Dorking, Surrey, England', 'England', 'Youngstown, OH',\n",
       "       'Nice, France', 'Lucca, Italy / California', 'Syria Ottawa, ON',\n",
       "       'Co Longford, Ireland New York, NY', 'Elkins Park, PA',\n",
       "       'New Britain, CT', 'Catford, Kent / Detroit, MI',\n",
       "       'Manchester, England', 'Belfast', 'Austria Niagara Falls, NY',\n",
       "       'Mt Airy, Philadelphia, PA',\n",
       "       'Rotherfield, Sussex, England Essex Co, MA', 'East Providence, RI',\n",
       "       'Worcester, MA', 'Syria New York, NY', 'Sweden Winnipeg, MN',\n",
       "       'London / Fort Byron, NY', 'Scituate, MA', 'Washington, DC',\n",
       "       'England Oglesby, IL', \"St Anne's-on-Sea, Lancashire\",\n",
       "       'Streatham, Surrey', 'Sweden  Worcester, MA', 'Dorchester, MA',\n",
       "       'Little Onn Hall, Staffs', 'London /  East Orange, NJ',\n",
       "       'Oslo, Norway Cameron, WI', 'Brighton, Sussex',\n",
       "       'St Ives, Cornwall / Houghton, MI', 'Lyndhurst, England',\n",
       "       'Harrow, England', 'Aberdeen / Portland, OR', 'Bennington, VT',\n",
       "       'Dowagiac, MI', 'Portland, OR', 'Bulgaria Coon Rapids, IA',\n",
       "       'Brockton, MA', 'Moscow / Bronx, NY', 'New Forest, England',\n",
       "       'Swindon, England', 'Chicago, IL', 'Effington Rut, SD',\n",
       "       'Brunswick, ME', 'Strood, Kent, England Detroit, MI',\n",
       "       'Guernsey / Wilmington, DE', 'Sweden Akeley, MN',\n",
       "       'San Francisco, CA', 'Plymouth, England', 'London / Paris',\n",
       "       'Duluth, MN', 'Norwich / New York, NY', 'Ottawa, ON',\n",
       "       'West Hampstead, London / Neepawa, MB',\n",
       "       'Weston-Super-Mare, Somerset', 'New York, NY /  Stamford CT',\n",
       "       'Austria', 'Cornwall / Spokane, WA', 'Finland Sudbury, ON',\n",
       "       'Co Sligo, Ireland Hartford, CT', 'Montevideo, Uruguay',\n",
       "       'Merrill, WI', 'London / Staten Island, NY', 'Pennsylvania',\n",
       "       'Middleburg Heights, OH', 'Lexington, MA',\n",
       "       'Cape Town, South Africa / Seattle, WA', 'Mamaroneck, NY',\n",
       "       'Rochester, NY', 'Bournmouth, England',\n",
       "       'New York, NY / Briarcliff Manor NY', 'Cincinatti, OH',\n",
       "       'Los Angeles, CA', 'London / Birmingham', 'England Albion, NY',\n",
       "       'Syria Youngstown, OH', 'Bristol, England / New Britain, CT',\n",
       "       'Fond du Lac, WI', 'Hong Kong New York, NY',\n",
       "       'Sweden Worcester, MA', 'Co Clare, Ireland Washington, DC',\n",
       "       'Bristol, Avon / Jacksonville, FL', 'Finland / Washington, DC',\n",
       "       'Plymouth, Devon / Detroit, MI', 'Belmont, MA',\n",
       "       'Bournemouth, England Newark, NJ',\n",
       "       'Barcelona, Spain / Havana, Cuba', 'London / New York, NY',\n",
       "       'Clevedon, England', 'Ireland Chicago, IL',\n",
       "       'Ruotsinphytaa, Finland New York, NY',\n",
       "       'Kontiolahti, Finland / Detroit, MI', 'Oslo, Norway Bayonne, NJ',\n",
       "       'St Leonards-on-Sea, England Ohio', 'London New York, NY',\n",
       "       'Perkins County, SD', 'Hudson, NY', 'West Haven, CT',\n",
       "       'St Ives, Cornwall / Calumet, MI', 'Paris',\n",
       "       'Guernsey / Montclair, NJ and/or Toledo, Ohio', 'Omaha, NE',\n",
       "       'Austria-Hungary / Germantown, Philadelphia, PA',\n",
       "       'Devon, England Wichita, KS', 'Denver, CO', 'Lakewood, NJ',\n",
       "       'Waukegan, Chicago, IL', 'St Andrews, Guernsey', 'Tuxedo Park, NY',\n",
       "       'Cornwall / Clear Creek, CO', 'New York, NY / Washington, DC',\n",
       "       'Treherbert, Cardiff, Wales', 'Sweden Chicago, IL',\n",
       "       'Liverpool / Montreal, PQ', 'Italy Philadelphia, PA',\n",
       "       'Warwick, England', 'Glen Ridge, NJ', 'Haddenfield, NJ',\n",
       "       'India / Pittsburgh, PA', 'Liverpool', 'Tampico, MT',\n",
       "       'Hamilton, ON', 'Vadsbro, Sweden Ministee, MI', 'Elizabeth, NJ',\n",
       "       'Plymouth, Dorset / Houghton, MI', 'Seattle, WA / Toledo, OH',\n",
       "       'England / Detroit, MI', 'St James, Long Island, NY',\n",
       "       'England Salt Lake City, Utah', 'Haverford, PA',\n",
       "       'Worcester, England', 'Belfast, NI',\n",
       "       'Liverpool, England Bedford, OH', 'West Hoboken, NJ',\n",
       "       'Antwerp, Belgium / Stanton, OH',\n",
       "       'Geneva, Switzerland / Radnor, PA',\n",
       "       'Co Limerick, Ireland Sherbrooke, PQ', 'Greece',\n",
       "       'England / Sacramento, CA', 'St Ives, Cornwall / Hancock, MI',\n",
       "       'Altdorf, Switzerland', 'Bronx, NY', 'Hessle, Yorks',\n",
       "       'Isleworth, England', 'Detroit, MI', 'Frankfort, KY',\n",
       "       'Yoevil, England / Cottage Grove, OR', 'London Brooklyn, NY',\n",
       "       'Halifax, NS', 'Paris /  New York, NY',\n",
       "       'Sittingbourne, England / San Diego, CA', 'London / Winnipeg, MB',\n",
       "       'Denmark Hill, Surrey / Chicago', 'Brighton, MA', 'Vancouver, BC',\n",
       "       'Ireland New York, NY', 'Ruotsinphyhtaa, Finland New York, NY',\n",
       "       'Somerset / Bernardsville, NJ', 'England Brooklyn, NY',\n",
       "       'Kingwilliamstown, Co Cork, Ireland Glens Falls, NY',\n",
       "       'Cologne, Germany', 'Greenwich, CT',\n",
       "       'Portugal / Sau Paulo, Brazil', 'Cooperstown, NY',\n",
       "       'New York, NY / Ithaca, NY', 'Calgary, AB',\n",
       "       'Skara, Sweden / Rockford, IL', 'Tokyo, Japan', 'Sarnia, ON',\n",
       "       'Belgium  Montreal, PQ', 'New York, NY / Greenwich CT',\n",
       "       'Chelsea, London', 'Jacksonville, FL',\n",
       "       'Kilmacowen, Co Sligo, Ireland New York, NY',\n",
       "       'Gallipolis, Ohio / ? Paris / New York', 'Spain', 'Auburn, NY',\n",
       "       'Medeltorp, Sweden Chicago, IL', 'Deer Lodge, MT',\n",
       "       'London  Vancouver, BC', 'Stockholm, Sweden New York',\n",
       "       'St Denys, Southampton, Hants', 'Finland / Minneapolis, MN',\n",
       "       'Elmira, NY / Orange, NJ', 'Brennes, Norway New York',\n",
       "       'Goteborg, Sweden Huntley, IL',\n",
       "       'Bromsgrove, England / Montreal, PQ',\n",
       "       'London, England / Marietta, Ohio and Milwaukee, WI',\n",
       "       'Woodford County, KY', 'Bridgwater, Somerset, England',\n",
       "       'Windsor, England New York, NY', 'Goteborg, Sweden / Rockford, IL',\n",
       "       'St Austall, Cornwall', 'Stoughton, MA',\n",
       "       'Deephaven, MN / Cedar Rapids, IA', 'Columbus, OH',\n",
       "       'Russia New York, NY', 'Argentina',\n",
       "       'Helsinki, Finland Ashtabula, Ohio', 'Huntington, WV',\n",
       "       'Tofta, Sweden Joliet, IL', 'Pondersend, England / New Durham, NJ',\n",
       "       'Gunnislake, England / Butte, MT', 'Kingston, Surrey',\n",
       "       'Springfield, MA', 'Austria-Hungary',\n",
       "       'Ascot, Berkshire / Rochester, NY', 'Norrlot, Sweden Chicago, IL',\n",
       "       'Dagsas, Sweden Fower, MN', 'Co Cork, Ireland Charlestown, MA',\n",
       "       'Albany, NY', 'Hornsey, England',\n",
       "       'Stockholm, Sweden / Washington, DC', 'Cambridge, MA',\n",
       "       'Janjgir, India / Pennsylvania', 'Bryn Mawr, PA, USA',\n",
       "       'Bristol, England Cleveland, OH', 'Asarum, Sweden Brooklyn, NY',\n",
       "       'Co Athlone, Ireland New York, NY', 'London / Montreal, PQ',\n",
       "       'Milford, NH', 'Taalintehdas, Finland Hoboken, NJ',\n",
       "       'Hartford, Huntingdonshire'], dtype=object)"
      ]
     },
     "metadata": {},
     "output_type": "display_data"
    },
    {
     "data": {
      "text/plain": [
       "434"
      ]
     },
     "metadata": {},
     "output_type": "display_data"
    }
   ],
   "source": [
    "display(df[\"home.dest\"].unique())\n",
    "display(df[\"home.dest\"].isnull().sum())"
   ]
  },
  {
   "cell_type": "code",
   "execution_count": 9,
   "id": "f081951f-7552-4db5-b1cd-f1dbdc80e41d",
   "metadata": {
    "tags": []
   },
   "outputs": [
    {
     "data": {
      "text/plain": [
       "2"
      ]
     },
     "execution_count": 9,
     "metadata": {},
     "output_type": "execute_result"
    }
   ],
   "source": [
    "df[\"embarked\"].isnull().sum()"
   ]
  },
  {
   "cell_type": "markdown",
   "id": "91ef4954-937f-4c7d-b9ba-4e5ec03f7d0d",
   "metadata": {},
   "source": [
    "Vedle již zmíněných příznaků cabin a home.dest vyhodím ještě index ticket, protože kód lístku jako takový žádnou informaci nenese. Stejně tak zahodím příznak name."
   ]
  },
  {
   "cell_type": "code",
   "execution_count": 10,
   "id": "ffc146c6-f876-45b6-b597-cbf7621e5df7",
   "metadata": {
    "tags": []
   },
   "outputs": [
    {
     "data": {
      "text/plain": [
       "0"
      ]
     },
     "metadata": {},
     "output_type": "display_data"
    },
    {
     "data": {
      "text/plain": [
       "746"
      ]
     },
     "execution_count": 10,
     "metadata": {},
     "output_type": "execute_result"
    }
   ],
   "source": [
    "display(df[\"ticket\"].isnull().sum())\n",
    "len(df.ticket.unique())"
   ]
  },
  {
   "cell_type": "markdown",
   "id": "dd1000a4-ac03-49de-a0f4-ae77ba77c17b",
   "metadata": {},
   "source": [
    "Pro přetipování nečíselných indexů si nechám vypsat jejich jména."
   ]
  },
  {
   "cell_type": "code",
   "execution_count": 11,
   "id": "5ff957a3-5c87-4406-be35-026ab7b3b6e6",
   "metadata": {
    "tags": []
   },
   "outputs": [
    {
     "name": "stdout",
     "output_type": "stream",
     "text": [
      "Index(['name', 'sex', 'ticket', 'cabin', 'embarked', 'home.dest'], dtype='object')\n"
     ]
    }
   ],
   "source": [
    "string_cols = df.select_dtypes(['object']).columns\n",
    "print(string_cols)"
   ]
  },
  {
   "cell_type": "markdown",
   "id": "a0feea42-07db-432b-a258-7bfb936c2286",
   "metadata": {},
   "source": [
    "## Nové příznaky"
   ]
  },
  {
   "cell_type": "markdown",
   "id": "4e515530-f806-47bd-b745-40f18f152ff6",
   "metadata": {},
   "source": [
    "### Pohlaví a místo nalodění\n",
    "U pohlaví není mezi hodnotami jansá hierarchie, proto použiji one hot encoding. U místa nalodění nalodění není situace tak jednoznačná. Sice by se dalo říci, že ani jedno jedno město není víc než jiné. Nicméně Titanic tato místa objel v nějakém pořadí. Na validační množině se pak ukázalo, že one hot encoding na místě nalodění vede celý model ke globální tendencii predikovat 0. Proto tento příznak převedu na ordinální.  "
   ]
  },
  {
   "cell_type": "code",
   "execution_count": 12,
   "id": "d396b3c6-1e75-4aea-892d-497e650c76e0",
   "metadata": {
    "tags": []
   },
   "outputs": [],
   "source": [
    "df[\"sex\"] = df[\"sex\"].astype(\"category\").cat.codes    \n",
    "\n",
    "# dummy_embarked= pd.get_dummies(df[\"embarked\"])\n",
    "# df = df.join(dummy_embarked)\n",
    "# df = df.drop('embarked', axis = 1) #dummy příznaky, zpusobují drop v F1 score u rozhodovacího stromu\n",
    "\n",
    "df[\"embarked\"] = df[\"embarked\"].astype(\"category\").cat.codes \n",
    "df.embarked = df.embarked.replace(0, -1) #odlišení chybějících hodnot"
   ]
  },
  {
   "cell_type": "markdown",
   "id": "0be00f45-6b61-41eb-826d-5feda4ba0907",
   "metadata": {
    "tags": []
   },
   "source": [
    "### Paluby"
   ]
  },
  {
   "cell_type": "markdown",
   "id": "4d115b85-1637-4a86-8bd4-8c40519eecd3",
   "metadata": {},
   "source": [
    "Chtěl jsem vytvořit přízmak na které palubě byl daný cestující ubytován. Nicméně tento příznak rozhodovací strom nevylepšil. Nejspíše důsledek velkého počtu chybějících hodnot v datasetu."
   ]
  },
  {
   "cell_type": "code",
   "execution_count": 13,
   "id": "9d887d0d-1f83-412a-aa72-f14013d8d14f",
   "metadata": {},
   "outputs": [],
   "source": [
    "#df[\"deck\"] = df[\"cabin\"].astype(str).str[0]\n",
    "#df = df.drop('cabin', axis = 1)\n",
    "\n",
    "#display(df.deck.unique())"
   ]
  },
  {
   "cell_type": "code",
   "execution_count": 14,
   "id": "35efd5c9-8e28-4e4d-b649-60079b2c978d",
   "metadata": {
    "tags": []
   },
   "outputs": [],
   "source": [
    "# T_deck = df.deck.apply(lambda x: 1 if x == \"T\" else 0).sum()\n",
    "# display(T_deck)\n",
    "# data_OG[data_OG.cabin == \"T\"] #Kabina T se nacháze na horní palubě a bydlel v ní pouze pan Stephen Weart Blackwell. Na internetu jsem dohledal, že na horní palubě se dále nacházely kajuty U-Z."
   ]
  },
  {
   "cell_type": "code",
   "execution_count": 15,
   "id": "f8d9f60c-f4d5-4a8b-9b8f-0488879299ef",
   "metadata": {
    "tags": []
   },
   "outputs": [],
   "source": [
    "#display(df.deck.unique())"
   ]
  },
  {
   "cell_type": "code",
   "execution_count": 16,
   "id": "b2ef1d5a-70ba-492d-8e73-c0b7b828e842",
   "metadata": {
    "tags": []
   },
   "outputs": [],
   "source": [
    "#nejak se mi nepodarilo přetipovaní pomoci pd.api.types.CategoricalDtype, tak to provedu ručně\n",
    "# df.deck = df.deck.replace(\"n\", -1)\n",
    "# df.deck = df.deck.replace([\"T\",\"U\",\"V\",\"W\",\"X\",\"Y\",\"Z\"], 1)# Ošetření všech kajut z horní paluby\n",
    "# df.deck = df.deck.replace([\"A\"], 2)\n",
    "# df.deck = df.deck.replace([\"B\"], 3)\n",
    "# df.deck = df.deck.replace([\"C\"], 4)\n",
    "# df.deck = df.deck.replace([\"D\"], 5)\n",
    "# df.deck = df.deck.replace([\"E\"], 6)\n",
    "# df.deck = df.deck.replace([\"F\"], 7)\n",
    "# df.deck = df.deck.replace([\"G\"], 8)"
   ]
  },
  {
   "cell_type": "code",
   "execution_count": 17,
   "id": "87f52b0b-27d9-4263-a166-e1793b1e99a2",
   "metadata": {
    "tags": []
   },
   "outputs": [],
   "source": [
    "#display(df.deck.dtypes)\n",
    "#df.select_dtypes(['object']).columns"
   ]
  },
  {
   "cell_type": "markdown",
   "id": "31e54212-9182-453e-bf1e-2d6c35cbf76c",
   "metadata": {},
   "source": [
    "### Rodina\n",
    "Nový příznak fam bude obsahovat součet všech rodinných příslušníků na palubě. Tato úprava je pak cílena především na kNN,kde by mohla napomoci snížit dimenzionalitu v kombinaci se zahozením původních přízanků sibsp a parch. Vzhledem k tomu, že rozhodovací strom si z příznaků vždy vybírá, přidávám tento příznak už nyní. Navyšuji tak možnost výběru a v nejhorším případě tento příznak stromu nijak nepomůže a pouze spomalí generovaání optimálního řešení."
   ]
  },
  {
   "cell_type": "code",
   "execution_count": 18,
   "id": "565c98e5-47d8-4bbf-9998-b615880b1b9a",
   "metadata": {
    "tags": []
   },
   "outputs": [],
   "source": [
    "df[\"fam\"] = df[\"sibsp\"] + df[\"parch\"]"
   ]
  },
  {
   "cell_type": "markdown",
   "id": "46b4926d-e0b9-4fda-b961-941ac9f9ee07",
   "metadata": {},
   "source": [
    "### Dokončení předzpracoání dat"
   ]
  },
  {
   "cell_type": "markdown",
   "id": "0438a21f-a551-4bfc-ad30-0597272f56f1",
   "metadata": {},
   "source": [
    "Zbavíme se nevhodných příznaků."
   ]
  },
  {
   "cell_type": "code",
   "execution_count": 19,
   "id": "0a82da1e-2b40-4d1d-836d-9ebef5991d44",
   "metadata": {
    "tags": []
   },
   "outputs": [],
   "source": [
    "df = df.drop('home.dest', axis = 1)\n",
    "df = df.drop('cabin', axis = 1)\n",
    "df = df.drop('ticket', axis = 1)\n",
    "df = df.drop('name', axis = 1)"
   ]
  },
  {
   "cell_type": "markdown",
   "id": "23de42bf-c220-4571-a796-4b8c0471b4a3",
   "metadata": {},
   "source": [
    "Posledním krokem předzpracování dast je vypořádání se s chybějícími hodnotami. Já jsem zvolil nahrazení mínus jedničkou."
   ]
  },
  {
   "cell_type": "code",
   "execution_count": 20,
   "id": "077b69e3-e3fd-445c-b7bf-0b6ec9c80ff4",
   "metadata": {},
   "outputs": [],
   "source": [
    "df = df.fillna('-1')"
   ]
  },
  {
   "cell_type": "code",
   "execution_count": 21,
   "id": "6183ba40-00d9-4653-a399-fcbf9c898ab4",
   "metadata": {
    "tags": []
   },
   "outputs": [
    {
     "data": {
      "text/html": [
       "<div>\n",
       "<style scoped>\n",
       "    .dataframe tbody tr th:only-of-type {\n",
       "        vertical-align: middle;\n",
       "    }\n",
       "\n",
       "    .dataframe tbody tr th {\n",
       "        vertical-align: top;\n",
       "    }\n",
       "\n",
       "    .dataframe thead th {\n",
       "        text-align: right;\n",
       "    }\n",
       "</style>\n",
       "<table border=\"1\" class=\"dataframe\">\n",
       "  <thead>\n",
       "    <tr style=\"text-align: right;\">\n",
       "      <th></th>\n",
       "      <th>ID</th>\n",
       "      <th>survived</th>\n",
       "      <th>pclass</th>\n",
       "      <th>sex</th>\n",
       "      <th>age</th>\n",
       "      <th>sibsp</th>\n",
       "      <th>parch</th>\n",
       "      <th>fare</th>\n",
       "      <th>embarked</th>\n",
       "      <th>fam</th>\n",
       "    </tr>\n",
       "  </thead>\n",
       "  <tbody>\n",
       "    <tr>\n",
       "      <th>0</th>\n",
       "      <td>0</td>\n",
       "      <td>0</td>\n",
       "      <td>3</td>\n",
       "      <td>1</td>\n",
       "      <td>11.0</td>\n",
       "      <td>5</td>\n",
       "      <td>2</td>\n",
       "      <td>46.9</td>\n",
       "      <td>2</td>\n",
       "      <td>7</td>\n",
       "    </tr>\n",
       "    <tr>\n",
       "      <th>1</th>\n",
       "      <td>1</td>\n",
       "      <td>0</td>\n",
       "      <td>3</td>\n",
       "      <td>1</td>\n",
       "      <td>-1</td>\n",
       "      <td>0</td>\n",
       "      <td>0</td>\n",
       "      <td>7.05</td>\n",
       "      <td>2</td>\n",
       "      <td>0</td>\n",
       "    </tr>\n",
       "    <tr>\n",
       "      <th>2</th>\n",
       "      <td>2</td>\n",
       "      <td>0</td>\n",
       "      <td>3</td>\n",
       "      <td>1</td>\n",
       "      <td>4.0</td>\n",
       "      <td>3</td>\n",
       "      <td>2</td>\n",
       "      <td>27.9</td>\n",
       "      <td>2</td>\n",
       "      <td>5</td>\n",
       "    </tr>\n",
       "    <tr>\n",
       "      <th>3</th>\n",
       "      <td>3</td>\n",
       "      <td>1</td>\n",
       "      <td>3</td>\n",
       "      <td>0</td>\n",
       "      <td>-1</td>\n",
       "      <td>1</td>\n",
       "      <td>0</td>\n",
       "      <td>15.5</td>\n",
       "      <td>1</td>\n",
       "      <td>1</td>\n",
       "    </tr>\n",
       "    <tr>\n",
       "      <th>4</th>\n",
       "      <td>4</td>\n",
       "      <td>1</td>\n",
       "      <td>3</td>\n",
       "      <td>0</td>\n",
       "      <td>18.0</td>\n",
       "      <td>0</td>\n",
       "      <td>0</td>\n",
       "      <td>7.2292</td>\n",
       "      <td>-1</td>\n",
       "      <td>0</td>\n",
       "    </tr>\n",
       "  </tbody>\n",
       "</table>\n",
       "</div>"
      ],
      "text/plain": [
       "   ID  survived  pclass  sex   age  sibsp  parch    fare  embarked  fam\n",
       "0   0         0       3    1  11.0      5      2    46.9         2    7\n",
       "1   1         0       3    1    -1      0      0    7.05         2    0\n",
       "2   2         0       3    1   4.0      3      2    27.9         2    5\n",
       "3   3         1       3    0    -1      1      0    15.5         1    1\n",
       "4   4         1       3    0  18.0      0      0  7.2292        -1    0"
      ]
     },
     "execution_count": 21,
     "metadata": {},
     "output_type": "execute_result"
    }
   ],
   "source": [
    "df.head()"
   ]
  },
  {
   "cell_type": "markdown",
   "id": "8347c270-b798-4d5d-81a6-bc9fc59157a0",
   "metadata": {
    "tags": []
   },
   "source": [
    "## Dělění dat\n",
    "Rozdělení příznaků a hledane proměnné."
   ]
  },
  {
   "cell_type": "code",
   "execution_count": 22,
   "id": "834075af-818b-42f1-869a-23242440389a",
   "metadata": {
    "tags": []
   },
   "outputs": [],
   "source": [
    "Xdata = df.drop(\"survived\", axis = 1)\n",
    "ydata = df.survived"
   ]
  },
  {
   "cell_type": "markdown",
   "id": "2946c435-0c02-4c8f-b320-1bac0d1f0581",
   "metadata": {},
   "source": [
    "Rozdělené dat na trénovací, validační a testovací množiny (v poměru 50:25:25)."
   ]
  },
  {
   "cell_type": "code",
   "execution_count": 23,
   "id": "e58663c1-4d96-44c1-8f92-6ca1c8b73891",
   "metadata": {
    "tags": []
   },
   "outputs": [
    {
     "data": {
      "text/plain": [
       "(500, 9)"
      ]
     },
     "metadata": {},
     "output_type": "display_data"
    },
    {
     "data": {
      "text/plain": [
       "(500,)"
      ]
     },
     "metadata": {},
     "output_type": "display_data"
    },
    {
     "data": {
      "text/plain": [
       "(500, 9)"
      ]
     },
     "metadata": {},
     "output_type": "display_data"
    },
    {
     "data": {
      "text/plain": [
       "(500,)"
      ]
     },
     "metadata": {},
     "output_type": "display_data"
    }
   ],
   "source": [
    "rd_seed = 987\n",
    "from sklearn.model_selection import train_test_split\n",
    "\n",
    "Xtrain, Xtest, ytrain, ytest = train_test_split(Xdata, ydata, test_size=0.5, random_state=rd_seed) \n",
    "display(Xtrain.shape)\n",
    "display(ytrain.shape)\n",
    "display(Xtest.shape)\n",
    "display(ytest.shape)"
   ]
  },
  {
   "cell_type": "code",
   "execution_count": 24,
   "id": "57695f07-e656-4e55-bb62-06cc52438cc3",
   "metadata": {
    "tags": []
   },
   "outputs": [
    {
     "data": {
      "text/plain": [
       "(250, 9)"
      ]
     },
     "metadata": {},
     "output_type": "display_data"
    },
    {
     "data": {
      "text/plain": [
       "(250,)"
      ]
     },
     "metadata": {},
     "output_type": "display_data"
    },
    {
     "data": {
      "text/plain": [
       "(250, 9)"
      ]
     },
     "metadata": {},
     "output_type": "display_data"
    },
    {
     "data": {
      "text/plain": [
       "(250,)"
      ]
     },
     "metadata": {},
     "output_type": "display_data"
    }
   ],
   "source": [
    "Xval, Xtest, yval, ytest = train_test_split(Xtest, ytest, test_size=0.5, random_state=rd_seed) \n",
    "display(Xval.shape)\n",
    "display(yval.shape)\n",
    "display(Xtest.shape)\n",
    "display(ytest.shape)"
   ]
  },
  {
   "cell_type": "markdown",
   "id": "7b6221ce-483c-4f4b-957a-3cce2523e57d",
   "metadata": {
    "tags": []
   },
   "source": [
    "# Trénování modelů"
   ]
  },
  {
   "cell_type": "markdown",
   "id": "6773468b-ff81-4851-a33e-589f390650e7",
   "metadata": {
    "tags": []
   },
   "source": [
    "## Rozhodovaci strom\n",
    "Jako hlavní parametry k ladění jsme si zvolil maximální hlouku a míru uspořádanosti (gini index vs. entropie)"
   ]
  },
  {
   "cell_type": "code",
   "execution_count": 25,
   "id": "2295d7c4-ffe5-4b15-833c-2cc1a461a848",
   "metadata": {
    "tags": []
   },
   "outputs": [],
   "source": [
    "from sklearn.model_selection import ParameterGrid\n",
    "param_grid = {     \n",
    "    'max_depth': range(1,30), \n",
    "    'criterion': ['entropy', 'gini']\n",
    "}\n",
    "param_comb = ParameterGrid(param_grid)\n",
    "\n",
    "val_acc = []\n",
    "train_acc = []\n",
    "for params in param_comb:\n",
    "    clf_tree_screen = DecisionTreeClassifier(max_depth=params['max_depth'], criterion=params['criterion'], random_state=rd_seed)\n",
    "    clf_tree_screen.fit(Xtrain, ytrain)\n",
    "    train_acc.append(metrics.accuracy_score(ytrain, clf_tree_screen.predict(Xtrain)))\n",
    "    val_acc.append(metrics.accuracy_score(yval, clf_tree_screen.predict(Xval)))"
   ]
  },
  {
   "cell_type": "code",
   "execution_count": 26,
   "id": "07d438f4-234e-4861-8a18-f44efc45307c",
   "metadata": {
    "tags": []
   },
   "outputs": [
    {
     "data": {
      "text/plain": [
       "<matplotlib.legend.Legend at 0x217f0389250>"
      ]
     },
     "execution_count": 26,
     "metadata": {},
     "output_type": "execute_result"
    },
    {
     "data": {
      "image/png": "[encoded data removed]",
      "text/plain": [
       "<Figure size 2000x600 with 1 Axes>"
      ]
     },
     "metadata": {},
     "output_type": "display_data"
    }
   ],
   "source": [
    "plt.figure(figsize=(20,6))\n",
    "plt.plot(train_acc,'or-')\n",
    "plt.plot(val_acc,'ob-')\n",
    "plt.xlabel('hyperparametr index')\n",
    "plt.ylabel('accuracy')\n",
    "plt.legend(['train', 'validation'])"
   ]
  },
  {
   "cell_type": "markdown",
   "id": "9fd859c6-4873-43aa-a3ce-77107b6d2101",
   "metadata": {},
   "source": [
    "Nechám si vypsat nejlepší hyparametry."
   ]
  },
  {
   "cell_type": "code",
   "execution_count": 27,
   "id": "35e62b57-387d-48dc-9c7a-125345bbfa0d",
   "metadata": {
    "tags": []
   },
   "outputs": [
    {
     "name": "stdout",
     "output_type": "stream",
     "text": [
      "{'max_depth': 8, 'criterion': 'entropy'}\n"
     ]
    },
    {
     "data": {
      "text/plain": [
       "0.768"
      ]
     },
     "execution_count": 27,
     "metadata": {},
     "output_type": "execute_result"
    }
   ],
   "source": [
    "best_params = param_comb[np.argmax(val_acc)]\n",
    "print(best_params)\n",
    "val_acc[np.argmax(val_acc)]"
   ]
  },
  {
   "cell_type": "markdown",
   "id": "220d5cf2-66df-4531-9b27-5abebfdc5c8a",
   "metadata": {},
   "source": [
    "Nyní si natrénuji model se zjištěnými hodnmotami hyperparametrů. Zároveň si nechám vypsat trenénovací, validační a trestovací chybu. Přičemž testovací chyba představuje odhad přesnosti modelu na neznámých datech."
   ]
  },
  {
   "cell_type": "code",
   "execution_count": 28,
   "id": "327bc623-5bc2-4839-a8ad-b7c38bfad0b8",
   "metadata": {
    "tags": []
   },
   "outputs": [
    {
     "name": "stdout",
     "output_type": "stream",
     "text": [
      "accuracy score (train): 0.908\n",
      "accuracy score (validation): 0.768\n"
     ]
    }
   ],
   "source": [
    "clf_tree = DecisionTreeClassifier(**best_params, random_state=rd_seed)\n",
    "clf_tree.fit(Xtrain, ytrain)\n",
    "\n",
    "tree_val_acc = metrics.accuracy_score(yval, clf_tree.predict(Xval))\n",
    "\n",
    "print('accuracy score (train): {0:.3f}'.format(metrics.accuracy_score(ytrain, clf_tree.predict(Xtrain))))\n",
    "print('accuracy score (validation): {0:.3f}'.format(tree_val_acc))"
   ]
  },
  {
   "cell_type": "markdown",
   "id": "9e0a3327-2c06-411c-99b5-9ba2a2d09206",
   "metadata": {
    "tags": []
   },
   "source": [
    "### Evaluace modelu rozhodovacího stromu\n",
    "Nejprve si nechám vypsat matici záměn, pro nahlédnují na predikce modelu."
   ]
  },
  {
   "cell_type": "code",
   "execution_count": 29,
   "id": "7ba32b1a-bc64-4a7f-a4e1-6f92f8ae9abc",
   "metadata": {
    "tags": []
   },
   "outputs": [
    {
     "name": "stdout",
     "output_type": "stream",
     "text": [
      "[[122  19]\n",
      " [ 39  70]]\n",
      "\n",
      "TN | FP\n",
      "-------\n",
      "FN | TP\n",
      "\n"
     ]
    }
   ],
   "source": [
    "ypred = clf_tree.predict(Xval)\n",
    "print(metrics.confusion_matrix(yval, ypred))\n",
    "\n",
    "print('''\n",
    "TN | FP\n",
    "-------\n",
    "FN | TP\n",
    "''')\n"
   ]
  },
  {
   "cell_type": "code",
   "execution_count": 30,
   "id": "5b6742e9-1f8b-435b-a3b2-f471088e8a13",
   "metadata": {
    "tags": []
   },
   "outputs": [
    {
     "name": "stdout",
     "output_type": "stream",
     "text": [
      "tree precision: 0.787\n",
      "tree tpr: 0.768\n"
     ]
    }
   ],
   "source": [
    "Tree_precission = metrics.precision_score(yval, ypred)\n",
    "Tree_tpr = metrics.accuracy_score(yval, ypred)\n",
    "print(\"tree precision: {0:.3f}\".format(Tree_precission))\n",
    "print(\"tree tpr: {0:.3f}\".format(Tree_tpr))"
   ]
  },
  {
   "cell_type": "markdown",
   "id": "7e53fb66-aa79-4415-84c7-36fb40501e55",
   "metadata": {},
   "source": [
    "Dále vypíši F1 skóre, UAC skóre a vykreslím ROC křivku."
   ]
  },
  {
   "cell_type": "code",
   "execution_count": 31,
   "id": "df74de17-0553-4969-a6f5-f03f2b505507",
   "metadata": {
    "tags": []
   },
   "outputs": [
    {
     "name": "stdout",
     "output_type": "stream",
     "text": [
      "F1 score: 0.707\n"
     ]
    }
   ],
   "source": [
    "f1 = metrics.f1_score(yval, ypred)\n",
    "print(f\"F1 score: {f1:.3}\")"
   ]
  },
  {
   "cell_type": "code",
   "execution_count": 32,
   "id": "09debb10-7f7f-4b27-b8af-03174eb8842e",
   "metadata": {
    "tags": []
   },
   "outputs": [
    {
     "data": {
      "image/png": "[encoded data removed]",
      "text/plain": [
       "<Figure size 640x480 with 1 Axes>"
      ]
     },
     "metadata": {},
     "output_type": "display_data"
    }
   ],
   "source": [
    "yprobs = clf_tree.predict_proba(Xval)\n",
    "yprobs = yprobs[:,1]\n",
    "fpr, tpr, threshold = metrics.roc_curve(yval, yprobs)\n",
    "auc = metrics.auc(fpr, tpr)\n",
    "\n",
    "plt.title('Receiver Operating Characteristic - Decission Tree')\n",
    "plt.plot(fpr, tpr, 'b', label = 'AUC = %0.2f' % auc)\n",
    "plt.legend(loc = 'lower right')\n",
    "plt.plot([0, 1], [0, 1],'r--')\n",
    "plt.xlim([0, 1])\n",
    "plt.ylim([0, 1])\n",
    "plt.ylabel('True Positive Rate')\n",
    "plt.xlabel('False Positive Rate')\n",
    "plt.show()"
   ]
  },
  {
   "cell_type": "markdown",
   "id": "29007c79-89ac-4d3f-87c0-123a905f6758",
   "metadata": {
    "tags": []
   },
   "source": [
    "## kNN"
   ]
  },
  {
   "cell_type": "markdown",
   "id": "70db9fd8-074c-4c8b-828c-26776f8cb0c9",
   "metadata": {
    "tags": []
   },
   "source": [
    "Nejprve jsem zkusil vyhodit z dat pro kNN původní strukturované počty rodinných příslušníků, kvůli snížení dimenzionality. Nicméně na validačních datech se ukázalo, že tato změna nemá pozitivní efekt."
   ]
  },
  {
   "cell_type": "code",
   "execution_count": 33,
   "id": "cad2167f-2b75-47cf-b2d7-83f13fae200d",
   "metadata": {
    "tags": []
   },
   "outputs": [],
   "source": [
    "# XtrainkN = Xtrain.drop('sibsp', axis = 1)\n",
    "# XtrainkN = XtrainkN.drop('parch', axis = 1)\n",
    "# XvalkN = Xval.drop('sibsp', axis = 1)\n",
    "# XvalkN = XvalkN.drop('parch', axis = 1)\n",
    "\n",
    "XtrainkN = Xtrain\n",
    "XvalkN = Xval"
   ]
  },
  {
   "cell_type": "code",
   "execution_count": 34,
   "id": "7dd45ff5-5e19-47e1-b8cc-30323ffb4fe6",
   "metadata": {
    "tags": []
   },
   "outputs": [],
   "source": [
    "from sklearn.preprocessing import StandardScaler\n",
    "\n",
    "scaler = StandardScaler()\n",
    "Xtrain_scaled = scaler.fit_transform(XtrainkN)\n",
    "\n",
    "Xval_scaled = scaler.transform(XvalkN)"
   ]
  },
  {
   "cell_type": "code",
   "execution_count": 35,
   "id": "bdc40cf4-787b-4c9c-98dd-b85427820f8a",
   "metadata": {
    "tags": []
   },
   "outputs": [],
   "source": [
    "from sklearn.neighbors import KNeighborsClassifier"
   ]
  },
  {
   "cell_type": "raw",
   "id": "a540f7d7-2f80-4613-933d-56101d99adba",
   "metadata": {},
   "source": [
    "Najdu optimum hyperparametrů. V tomto případě jsem zvolil počet sousedů a metriku pro měření vzdálenosti."
   ]
  },
  {
   "cell_type": "code",
   "execution_count": 36,
   "id": "be36a177-68e9-43f8-8c3f-9ff306ad0d2e",
   "metadata": {},
   "outputs": [],
   "source": [
    "param_gridkN = {     \n",
    "    'n_neighbors': range(1,11), \n",
    "    'metric': ['minkowski', 'manhattan']\n",
    "}\n",
    "param_combkN = ParameterGrid(param_gridkN)\n",
    "\n",
    "val_acckN = []\n",
    "train_acckN = []\n",
    "\n",
    "for params in param_combkN:\n",
    "    clfkN_screen = KNeighborsClassifier(n_neighbors=params['n_neighbors'], metric=params['metric'])\n",
    "    clfkN_screen.fit(Xtrain_scaled, ytrain)\n",
    "    train_acckN.append(metrics.accuracy_score(ytrain, clfkN_screen.predict(Xtrain_scaled)))\n",
    "    val_acckN.append(metrics.accuracy_score(yval, clfkN_screen.predict(Xval_scaled)))"
   ]
  },
  {
   "cell_type": "code",
   "execution_count": 37,
   "id": "21892094-9d17-4276-8192-9059ab85ff30",
   "metadata": {
    "tags": []
   },
   "outputs": [
    {
     "name": "stdout",
     "output_type": "stream",
     "text": [
      "{'n_neighbors': 6, 'metric': 'minkowski'}\n"
     ]
    },
    {
     "data": {
      "text/plain": [
       "0.752"
      ]
     },
     "execution_count": 37,
     "metadata": {},
     "output_type": "execute_result"
    }
   ],
   "source": [
    "best_paramskN = param_combkN[np.argmax(val_acckN)]\n",
    "print(best_paramskN)\n",
    "val_acckN[np.argmax(val_acckN)]"
   ]
  },
  {
   "cell_type": "code",
   "execution_count": 38,
   "id": "18edc8ac-c84f-4531-a38d-8c23e23f59b6",
   "metadata": {
    "tags": []
   },
   "outputs": [
    {
     "name": "stdout",
     "output_type": "stream",
     "text": [
      "[0.744, 0.732, 0.74, 0.724, 0.732, 0.752, 0.74, 0.74, 0.724, 0.728, 0.736, 0.72, 0.72, 0.724, 0.74, 0.724, 0.736, 0.736, 0.744, 0.74]\n"
     ]
    }
   ],
   "source": [
    "print(val_acckN)"
   ]
  },
  {
   "cell_type": "code",
   "execution_count": 39,
   "id": "3b209d17-657a-4deb-a8d9-8ee92cf2bbb7",
   "metadata": {
    "tags": []
   },
   "outputs": [
    {
     "data": {
      "text/plain": [
       "<matplotlib.legend.Legend at 0x217f0baf890>"
      ]
     },
     "execution_count": 39,
     "metadata": {},
     "output_type": "execute_result"
    },
    {
     "data": {
      "image/png": "[encoded data removed]",
      "text/plain": [
       "<Figure size 2000x600 with 1 Axes>"
      ]
     },
     "metadata": {},
     "output_type": "display_data"
    }
   ],
   "source": [
    "plt.figure(figsize=(20,6))\n",
    "plt.plot(train_acckN,'or-')\n",
    "plt.plot(val_acckN,'ob-')\n",
    "plt.xlabel('hyperparametr index')\n",
    "plt.ylabel('accuracy')\n",
    "plt.legend(['train', 'validation'])"
   ]
  },
  {
   "cell_type": "code",
   "execution_count": 40,
   "id": "09fd208a-ffcf-4b50-b2cb-99e759f0f195",
   "metadata": {
    "tags": []
   },
   "outputs": [
    {
     "name": "stdout",
     "output_type": "stream",
     "text": [
      "accuracy score (train): 0.832\n",
      "accuracy score (validation): 0.752\n"
     ]
    }
   ],
   "source": [
    "clfkN = KNeighborsClassifier(**best_paramskN)\n",
    "clfkN.fit(Xtrain_scaled, ytrain)\n",
    "\n",
    "kNN_val_acc = metrics.accuracy_score(yval, clfkN.predict(Xval_scaled))\n",
    "\n",
    "print('accuracy score (train): {0:.3f}'.format(metrics.accuracy_score(ytrain, clfkN.predict(Xtrain_scaled))))\n",
    "print('accuracy score (validation): {0:.3f}'.format(kNN_val_acc))"
   ]
  },
  {
   "cell_type": "markdown",
   "id": "aea14c2b-adaf-4ed6-a107-44303a49b647",
   "metadata": {},
   "source": [
    "### Evaluace modelu nejbližšších sousedů\n",
    "Opět si nejprve vypisi pravdivostni matici."
   ]
  },
  {
   "cell_type": "code",
   "execution_count": 41,
   "id": "26d7cea2-b393-4b4a-8c03-f60971d76bf5",
   "metadata": {
    "tags": []
   },
   "outputs": [
    {
     "name": "stdout",
     "output_type": "stream",
     "text": [
      "[[120  21]\n",
      " [ 41  68]]\n",
      "\n",
      "TN | FP\n",
      "-------\n",
      "FN | TP\n",
      "\n"
     ]
    }
   ],
   "source": [
    "ypredkN = clfkN.predict(Xval_scaled)\n",
    "print(metrics.confusion_matrix(yval, ypredkN))\n",
    "\n",
    "print('''\n",
    "TN | FP\n",
    "-------\n",
    "FN | TP\n",
    "''')"
   ]
  },
  {
   "cell_type": "code",
   "execution_count": 42,
   "id": "e0bc2356-acfe-4faa-a2b8-6d81bca75b08",
   "metadata": {
    "tags": []
   },
   "outputs": [
    {
     "name": "stdout",
     "output_type": "stream",
     "text": [
      "F1 score: 0.7070707070707072\n"
     ]
    }
   ],
   "source": [
    "f1kN = metrics.f1_score(yval, ypredkN)\n",
    "print(f\"F1 score: {f1}\")"
   ]
  },
  {
   "cell_type": "code",
   "execution_count": 43,
   "id": "0b66f84a-71a4-4f8f-803c-5710bfbaf6ba",
   "metadata": {
    "tags": []
   },
   "outputs": [
    {
     "data": {
      "image/png": "[encoded data removed]",
      "text/plain": [
       "<Figure size 640x480 with 1 Axes>"
      ]
     },
     "metadata": {},
     "output_type": "display_data"
    }
   ],
   "source": [
    "yprobs_knn = clfkN.predict_proba(Xval_scaled)\n",
    "yprobs_knn = yprobs_knn[:,1]\n",
    "fpr_knn, tpr_knn, threshold_knn = metrics.roc_curve(yval, yprobs_knn)\n",
    "auc_knn = metrics.auc(fpr_knn, tpr_knn)\n",
    "\n",
    "plt.title('Receiver Operating Characteristic - kNN')\n",
    "plt.plot(fpr_knn, tpr_knn, 'b', label = 'AUC = %0.2f' % auc_knn)\n",
    "plt.legend(loc = 'lower right')\n",
    "plt.plot([0, 1], [0, 1],'r--')\n",
    "plt.xlim([0, 1])\n",
    "plt.ylim([0, 1])\n",
    "plt.ylabel('True Positive Rate')\n",
    "plt.xlabel('False Positive Rate')\n",
    "plt.show()"
   ]
  },
  {
   "cell_type": "markdown",
   "id": "fed9fec7-4ccd-4a77-b01f-167c467bde10",
   "metadata": {
    "jp-MarkdownHeadingCollapsed": true,
    "tags": []
   },
   "source": [
    "## Výběr nejlepšího modelu"
   ]
  },
  {
   "cell_type": "markdown",
   "id": "637fe578-8fa8-4ac1-b65e-fff8eeed31b6",
   "metadata": {},
   "source": [
    "Vypíši si významné metriky:"
   ]
  },
  {
   "cell_type": "code",
   "execution_count": 44,
   "id": "65bab7b9-1b39-4e10-8934-b113bd779e81",
   "metadata": {
    "tags": []
   },
   "outputs": [
    {
     "name": "stdout",
     "output_type": "stream",
     "text": [
      "Validation accuracy: Tree 0.768, kNN 0.752\n",
      "F1 score: Tree 0.707, kNN 0.687\n",
      "AUC score: Tree 0.755, kNN 0.773\n"
     ]
    }
   ],
   "source": [
    "print(f\"Validation accuracy: Tree {tree_val_acc:.3f}, kNN {kNN_val_acc:.3f}\")\n",
    "print(f\"F1 score: Tree {f1:.3f}, kNN {f1kN:.3f}\")\n",
    "print(f\"AUC score: Tree {auc:.3f}, kNN {auc_knn:.3f}\")"
   ]
  },
  {
   "cell_type": "markdown",
   "id": "77b8688d-2f8a-4a50-adbf-15eab1b91f3f",
   "metadata": {},
   "source": [
    "Ve dvou ze tří metrik vychází lépe rozhodovací strom. Vzhledem k tomu, že se jedná právvě o celkovou accuracy a F1 skóre, bude vybrán jako finální model tento strom. Kdyby měl vyšší i AUC skóre, bylo by rozhodnutí jednoznačnější. Nicméně Oba modely mají AUC skóre podobné a v obou případech je vydět, že predikce nedělají zcela náhodně (ROC křivka je daleko od čárkované diagonály). "
   ]
  },
  {
   "cell_type": "code",
   "execution_count": 45,
   "id": "af471c5c-2fea-4c7c-9e77-265a417ce0ef",
   "metadata": {
    "tags": []
   },
   "outputs": [
    {
     "data": {
      "text/plain": [
       "398"
      ]
     },
     "execution_count": 45,
     "metadata": {},
     "output_type": "execute_result"
    }
   ],
   "source": [
    "df[\"survived\"].sum() # cca 40% přežilo => lehce nevyvážený dataset, další důvod proč je F1 skóre významnější než AUC"
   ]
  },
  {
   "cell_type": "markdown",
   "id": "e10d9331-4ddc-4405-bee1-3bc264f56e88",
   "metadata": {},
   "source": [
    "### Odhad přesnosti na nových datech "
   ]
  },
  {
   "cell_type": "code",
   "execution_count": 46,
   "id": "3f0b0fae-1a47-439c-8c5d-bc85a868770f",
   "metadata": {
    "tags": []
   },
   "outputs": [
    {
     "name": "stdout",
     "output_type": "stream",
     "text": [
      "[[137  26]\n",
      " [ 36  51]]\n",
      "\n",
      "TN | FP\n",
      "-------\n",
      "FN | TP\n",
      "\n",
      "Tree test precision: 0.662\n",
      "Tree test tpr: 0.752\n",
      "F1 score: 0.622\n"
     ]
    }
   ],
   "source": [
    "ypred_test = clf_tree.predict(Xtest)\n",
    "print(metrics.confusion_matrix(ytest, ypred_test))\n",
    "\n",
    "print('''\n",
    "TN | FP\n",
    "-------\n",
    "FN | TP\n",
    "''')\n",
    "\n",
    "Tree_precission_test = metrics.precision_score(ytest, ypred_test)\n",
    "Tree_tpr_test = metrics.accuracy_score(ytest, ypred_test)\n",
    "print(\"Tree test precision: {0:.3f}\".format(Tree_precission_test))\n",
    "print(\"Tree test tpr: {0:.3f}\".format(Tree_tpr_test))\n",
    "\n",
    "f1_test = metrics.f1_score(ytest, ypred_test)\n",
    "print(f\"F1 score: {f1_test:.3f}\")"
   ]
  },
  {
   "cell_type": "code",
   "execution_count": 47,
   "id": "ca69d926-2058-40e6-805b-9d4d5394996c",
   "metadata": {
    "tags": []
   },
   "outputs": [
    {
     "data": {
      "image/png": "[encoded data removed]",
      "text/plain": [
       "<Figure size 640x480 with 1 Axes>"
      ]
     },
     "metadata": {},
     "output_type": "display_data"
    }
   ],
   "source": [
    "yprobs_test = clf_tree.predict_proba(Xtest)\n",
    "yprobs_test = yprobs_test[:,1]\n",
    "fpr_test, tpr_test, threshold_test = metrics.roc_curve(ytest, yprobs_test)\n",
    "auc_test = metrics.auc(fpr_test, tpr_test)\n",
    "\n",
    "plt.title('Receiver Operating Characteristic - Decision Tree TEST')\n",
    "plt.plot(fpr_test, tpr_test, 'b', label = 'AUC = %0.2f' % auc_test)\n",
    "plt.legend(loc = 'lower right')\n",
    "plt.plot([0, 1], [0, 1],'r--')\n",
    "plt.xlim([0, 1])\n",
    "plt.ylim([0, 1])\n",
    "plt.ylabel('True Positive Rate')\n",
    "plt.xlabel('False Positive Rate')\n",
    "plt.show()"
   ]
  },
  {
   "cell_type": "markdown",
   "id": "36ca5a61-79e2-4cb8-93e4-e7b760d4498a",
   "metadata": {
    "tags": []
   },
   "source": [
    "# Predikce na neznámích datech"
   ]
  },
  {
   "cell_type": "code",
   "execution_count": 48,
   "id": "318911f8-03c1-4433-bff1-a248b54020a3",
   "metadata": {
    "tags": []
   },
   "outputs": [
    {
     "data": {
      "text/html": [
       "<div>\n",
       "<style scoped>\n",
       "    .dataframe tbody tr th:only-of-type {\n",
       "        vertical-align: middle;\n",
       "    }\n",
       "\n",
       "    .dataframe tbody tr th {\n",
       "        vertical-align: top;\n",
       "    }\n",
       "\n",
       "    .dataframe thead th {\n",
       "        text-align: right;\n",
       "    }\n",
       "</style>\n",
       "<table border=\"1\" class=\"dataframe\">\n",
       "  <thead>\n",
       "    <tr style=\"text-align: right;\">\n",
       "      <th></th>\n",
       "      <th>ID</th>\n",
       "      <th>pclass</th>\n",
       "      <th>name</th>\n",
       "      <th>sex</th>\n",
       "      <th>age</th>\n",
       "      <th>sibsp</th>\n",
       "      <th>parch</th>\n",
       "      <th>ticket</th>\n",
       "      <th>fare</th>\n",
       "      <th>cabin</th>\n",
       "      <th>embarked</th>\n",
       "      <th>home.dest</th>\n",
       "    </tr>\n",
       "  </thead>\n",
       "  <tbody>\n",
       "    <tr>\n",
       "      <th>0</th>\n",
       "      <td>1000</td>\n",
       "      <td>3</td>\n",
       "      <td>Stankovic, Mr. Ivan</td>\n",
       "      <td>male</td>\n",
       "      <td>33.0</td>\n",
       "      <td>0</td>\n",
       "      <td>0</td>\n",
       "      <td>349239</td>\n",
       "      <td>8.6625</td>\n",
       "      <td>NaN</td>\n",
       "      <td>C</td>\n",
       "      <td>NaN</td>\n",
       "    </tr>\n",
       "    <tr>\n",
       "      <th>1</th>\n",
       "      <td>1001</td>\n",
       "      <td>1</td>\n",
       "      <td>Flegenheim, Mrs. Alfred (Antoinette)</td>\n",
       "      <td>female</td>\n",
       "      <td>NaN</td>\n",
       "      <td>0</td>\n",
       "      <td>0</td>\n",
       "      <td>PC 17598</td>\n",
       "      <td>31.6833</td>\n",
       "      <td>NaN</td>\n",
       "      <td>S</td>\n",
       "      <td>New York, NY</td>\n",
       "    </tr>\n",
       "    <tr>\n",
       "      <th>2</th>\n",
       "      <td>1002</td>\n",
       "      <td>1</td>\n",
       "      <td>Frauenthal, Mrs. Henry William (Clara Heinshei...</td>\n",
       "      <td>female</td>\n",
       "      <td>NaN</td>\n",
       "      <td>1</td>\n",
       "      <td>0</td>\n",
       "      <td>PC 17611</td>\n",
       "      <td>133.6500</td>\n",
       "      <td>NaN</td>\n",
       "      <td>S</td>\n",
       "      <td>New York, NY</td>\n",
       "    </tr>\n",
       "    <tr>\n",
       "      <th>3</th>\n",
       "      <td>1003</td>\n",
       "      <td>3</td>\n",
       "      <td>Vander Cruyssen, Mr. Victor</td>\n",
       "      <td>male</td>\n",
       "      <td>47.0</td>\n",
       "      <td>0</td>\n",
       "      <td>0</td>\n",
       "      <td>345765</td>\n",
       "      <td>9.0000</td>\n",
       "      <td>NaN</td>\n",
       "      <td>S</td>\n",
       "      <td>NaN</td>\n",
       "    </tr>\n",
       "    <tr>\n",
       "      <th>4</th>\n",
       "      <td>1004</td>\n",
       "      <td>1</td>\n",
       "      <td>Lurette, Miss. Elise</td>\n",
       "      <td>female</td>\n",
       "      <td>58.0</td>\n",
       "      <td>0</td>\n",
       "      <td>0</td>\n",
       "      <td>PC 17569</td>\n",
       "      <td>146.5208</td>\n",
       "      <td>B80</td>\n",
       "      <td>C</td>\n",
       "      <td>NaN</td>\n",
       "    </tr>\n",
       "    <tr>\n",
       "      <th>...</th>\n",
       "      <td>...</td>\n",
       "      <td>...</td>\n",
       "      <td>...</td>\n",
       "      <td>...</td>\n",
       "      <td>...</td>\n",
       "      <td>...</td>\n",
       "      <td>...</td>\n",
       "      <td>...</td>\n",
       "      <td>...</td>\n",
       "      <td>...</td>\n",
       "      <td>...</td>\n",
       "      <td>...</td>\n",
       "    </tr>\n",
       "    <tr>\n",
       "      <th>304</th>\n",
       "      <td>1304</td>\n",
       "      <td>2</td>\n",
       "      <td>Butler, Mr. Reginald Fenton</td>\n",
       "      <td>male</td>\n",
       "      <td>25.0</td>\n",
       "      <td>0</td>\n",
       "      <td>0</td>\n",
       "      <td>234686</td>\n",
       "      <td>13.0000</td>\n",
       "      <td>NaN</td>\n",
       "      <td>S</td>\n",
       "      <td>Southsea, Hants</td>\n",
       "    </tr>\n",
       "    <tr>\n",
       "      <th>305</th>\n",
       "      <td>1305</td>\n",
       "      <td>3</td>\n",
       "      <td>Lemberopolous, Mr. Peter L</td>\n",
       "      <td>male</td>\n",
       "      <td>34.5</td>\n",
       "      <td>0</td>\n",
       "      <td>0</td>\n",
       "      <td>2683</td>\n",
       "      <td>6.4375</td>\n",
       "      <td>NaN</td>\n",
       "      <td>C</td>\n",
       "      <td>NaN</td>\n",
       "    </tr>\n",
       "    <tr>\n",
       "      <th>306</th>\n",
       "      <td>1306</td>\n",
       "      <td>3</td>\n",
       "      <td>Fox, Mr. Patrick</td>\n",
       "      <td>male</td>\n",
       "      <td>NaN</td>\n",
       "      <td>0</td>\n",
       "      <td>0</td>\n",
       "      <td>368573</td>\n",
       "      <td>7.7500</td>\n",
       "      <td>NaN</td>\n",
       "      <td>Q</td>\n",
       "      <td>Ireland New York, NY</td>\n",
       "    </tr>\n",
       "    <tr>\n",
       "      <th>307</th>\n",
       "      <td>1307</td>\n",
       "      <td>1</td>\n",
       "      <td>Giglio, Mr. Victor</td>\n",
       "      <td>male</td>\n",
       "      <td>24.0</td>\n",
       "      <td>0</td>\n",
       "      <td>0</td>\n",
       "      <td>PC 17593</td>\n",
       "      <td>79.2000</td>\n",
       "      <td>B86</td>\n",
       "      <td>C</td>\n",
       "      <td>NaN</td>\n",
       "    </tr>\n",
       "    <tr>\n",
       "      <th>308</th>\n",
       "      <td>1308</td>\n",
       "      <td>3</td>\n",
       "      <td>Jensen, Mr. Svend Lauritz</td>\n",
       "      <td>male</td>\n",
       "      <td>17.0</td>\n",
       "      <td>1</td>\n",
       "      <td>0</td>\n",
       "      <td>350048</td>\n",
       "      <td>7.0542</td>\n",
       "      <td>NaN</td>\n",
       "      <td>S</td>\n",
       "      <td>NaN</td>\n",
       "    </tr>\n",
       "  </tbody>\n",
       "</table>\n",
       "<p>309 rows × 12 columns</p>\n",
       "</div>"
      ],
      "text/plain": [
       "       ID  pclass                                               name     sex  \\\n",
       "0    1000       3                                Stankovic, Mr. Ivan    male   \n",
       "1    1001       1               Flegenheim, Mrs. Alfred (Antoinette)  female   \n",
       "2    1002       1  Frauenthal, Mrs. Henry William (Clara Heinshei...  female   \n",
       "3    1003       3                        Vander Cruyssen, Mr. Victor    male   \n",
       "4    1004       1                               Lurette, Miss. Elise  female   \n",
       "..    ...     ...                                                ...     ...   \n",
       "304  1304       2                        Butler, Mr. Reginald Fenton    male   \n",
       "305  1305       3                         Lemberopolous, Mr. Peter L    male   \n",
       "306  1306       3                                   Fox, Mr. Patrick    male   \n",
       "307  1307       1                                 Giglio, Mr. Victor    male   \n",
       "308  1308       3                          Jensen, Mr. Svend Lauritz    male   \n",
       "\n",
       "      age  sibsp  parch    ticket      fare cabin embarked  \\\n",
       "0    33.0      0      0    349239    8.6625   NaN        C   \n",
       "1     NaN      0      0  PC 17598   31.6833   NaN        S   \n",
       "2     NaN      1      0  PC 17611  133.6500   NaN        S   \n",
       "3    47.0      0      0    345765    9.0000   NaN        S   \n",
       "4    58.0      0      0  PC 17569  146.5208   B80        C   \n",
       "..    ...    ...    ...       ...       ...   ...      ...   \n",
       "304  25.0      0      0    234686   13.0000   NaN        S   \n",
       "305  34.5      0      0      2683    6.4375   NaN        C   \n",
       "306   NaN      0      0    368573    7.7500   NaN        Q   \n",
       "307  24.0      0      0  PC 17593   79.2000   B86        C   \n",
       "308  17.0      1      0    350048    7.0542   NaN        S   \n",
       "\n",
       "                home.dest  \n",
       "0                     NaN  \n",
       "1            New York, NY  \n",
       "2            New York, NY  \n",
       "3                     NaN  \n",
       "4                     NaN  \n",
       "..                    ...  \n",
       "304       Southsea, Hants  \n",
       "305                   NaN  \n",
       "306  Ireland New York, NY  \n",
       "307                   NaN  \n",
       "308                   NaN  \n",
       "\n",
       "[309 rows x 12 columns]"
      ]
     },
     "execution_count": 48,
     "metadata": {},
     "output_type": "execute_result"
    }
   ],
   "source": [
    "data_unknown = pd.read_table(\"evaluation.csv\", sep = \",\")\n",
    "data_unknown"
   ]
  },
  {
   "cell_type": "markdown",
   "id": "11978ca8-2e76-4e80-b064-e0c837d44b86",
   "metadata": {},
   "source": [
    "Ověření, že mám skutečn2 stejné příznaky"
   ]
  },
  {
   "cell_type": "code",
   "execution_count": 49,
   "id": "504660f6-7378-4292-b328-e99614eb63b4",
   "metadata": {
    "tags": []
   },
   "outputs": [
    {
     "data": {
      "text/plain": [
       "Index(['ID', 'survived', 'pclass', 'sex', 'age', 'sibsp', 'parch', 'fare',\n",
       "       'embarked', 'fam'],\n",
       "      dtype='object')"
      ]
     },
     "metadata": {},
     "output_type": "display_data"
    },
    {
     "data": {
      "text/plain": [
       "Index(['ID', 'pclass', 'name', 'sex', 'age', 'sibsp', 'parch', 'ticket',\n",
       "       'fare', 'cabin', 'embarked', 'home.dest'],\n",
       "      dtype='object')"
      ]
     },
     "metadata": {},
     "output_type": "display_data"
    },
    {
     "data": {
      "text/plain": [
       "{'fam', 'survived'}"
      ]
     },
     "execution_count": 49,
     "metadata": {},
     "output_type": "execute_result"
    }
   ],
   "source": [
    "display(df.columns)\n",
    "display(data_unknown.columns)\n",
    "\n",
    "set(df.columns) - set(data_unknown.columns)"
   ]
  },
  {
   "cell_type": "code",
   "execution_count": 50,
   "id": "8633fc62-8674-408d-b903-749a0cb2efb5",
   "metadata": {
    "tags": []
   },
   "outputs": [
    {
     "data": {
      "text/plain": [
       "(309, 12)"
      ]
     },
     "metadata": {},
     "output_type": "display_data"
    },
    {
     "name": "stdout",
     "output_type": "stream",
     "text": [
      "<class 'pandas.core.frame.DataFrame'>\n",
      "RangeIndex: 309 entries, 0 to 308\n",
      "Data columns (total 12 columns):\n",
      " #   Column     Non-Null Count  Dtype  \n",
      "---  ------     --------------  -----  \n",
      " 0   ID         309 non-null    int64  \n",
      " 1   pclass     309 non-null    int64  \n",
      " 2   name       309 non-null    object \n",
      " 3   sex        309 non-null    object \n",
      " 4   age        244 non-null    float64\n",
      " 5   sibsp      309 non-null    int64  \n",
      " 6   parch      309 non-null    int64  \n",
      " 7   ticket     309 non-null    object \n",
      " 8   fare       309 non-null    float64\n",
      " 9   cabin      62 non-null     object \n",
      " 10  embarked   309 non-null    object \n",
      " 11  home.dest  179 non-null    object \n",
      "dtypes: float64(2), int64(4), object(6)\n",
      "memory usage: 29.1+ KB\n"
     ]
    },
    {
     "data": {
      "text/plain": [
       "None"
      ]
     },
     "metadata": {},
     "output_type": "display_data"
    },
    {
     "data": {
      "text/html": [
       "<div>\n",
       "<style scoped>\n",
       "    .dataframe tbody tr th:only-of-type {\n",
       "        vertical-align: middle;\n",
       "    }\n",
       "\n",
       "    .dataframe tbody tr th {\n",
       "        vertical-align: top;\n",
       "    }\n",
       "\n",
       "    .dataframe thead th {\n",
       "        text-align: right;\n",
       "    }\n",
       "</style>\n",
       "<table border=\"1\" class=\"dataframe\">\n",
       "  <thead>\n",
       "    <tr style=\"text-align: right;\">\n",
       "      <th></th>\n",
       "      <th>ID</th>\n",
       "      <th>pclass</th>\n",
       "      <th>age</th>\n",
       "      <th>sibsp</th>\n",
       "      <th>parch</th>\n",
       "      <th>fare</th>\n",
       "    </tr>\n",
       "  </thead>\n",
       "  <tbody>\n",
       "    <tr>\n",
       "      <th>count</th>\n",
       "      <td>309.000000</td>\n",
       "      <td>309.000000</td>\n",
       "      <td>244.000000</td>\n",
       "      <td>309.000000</td>\n",
       "      <td>309.000000</td>\n",
       "      <td>309.000000</td>\n",
       "    </tr>\n",
       "    <tr>\n",
       "      <th>mean</th>\n",
       "      <td>1154.000000</td>\n",
       "      <td>2.317152</td>\n",
       "      <td>29.981216</td>\n",
       "      <td>0.508091</td>\n",
       "      <td>0.330097</td>\n",
       "      <td>30.163106</td>\n",
       "    </tr>\n",
       "    <tr>\n",
       "      <th>std</th>\n",
       "      <td>89.344838</td>\n",
       "      <td>0.831442</td>\n",
       "      <td>14.718045</td>\n",
       "      <td>1.097858</td>\n",
       "      <td>0.670167</td>\n",
       "      <td>46.312684</td>\n",
       "    </tr>\n",
       "    <tr>\n",
       "      <th>min</th>\n",
       "      <td>1000.000000</td>\n",
       "      <td>1.000000</td>\n",
       "      <td>0.750000</td>\n",
       "      <td>0.000000</td>\n",
       "      <td>0.000000</td>\n",
       "      <td>0.000000</td>\n",
       "    </tr>\n",
       "    <tr>\n",
       "      <th>25%</th>\n",
       "      <td>1077.000000</td>\n",
       "      <td>2.000000</td>\n",
       "      <td>21.000000</td>\n",
       "      <td>0.000000</td>\n",
       "      <td>0.000000</td>\n",
       "      <td>7.879200</td>\n",
       "    </tr>\n",
       "    <tr>\n",
       "      <th>50%</th>\n",
       "      <td>1154.000000</td>\n",
       "      <td>3.000000</td>\n",
       "      <td>29.000000</td>\n",
       "      <td>0.000000</td>\n",
       "      <td>0.000000</td>\n",
       "      <td>13.500000</td>\n",
       "    </tr>\n",
       "    <tr>\n",
       "      <th>75%</th>\n",
       "      <td>1231.000000</td>\n",
       "      <td>3.000000</td>\n",
       "      <td>39.000000</td>\n",
       "      <td>1.000000</td>\n",
       "      <td>0.000000</td>\n",
       "      <td>31.275000</td>\n",
       "    </tr>\n",
       "    <tr>\n",
       "      <th>max</th>\n",
       "      <td>1308.000000</td>\n",
       "      <td>3.000000</td>\n",
       "      <td>71.000000</td>\n",
       "      <td>8.000000</td>\n",
       "      <td>5.000000</td>\n",
       "      <td>512.329200</td>\n",
       "    </tr>\n",
       "  </tbody>\n",
       "</table>\n",
       "</div>"
      ],
      "text/plain": [
       "                ID      pclass         age       sibsp       parch        fare\n",
       "count   309.000000  309.000000  244.000000  309.000000  309.000000  309.000000\n",
       "mean   1154.000000    2.317152   29.981216    0.508091    0.330097   30.163106\n",
       "std      89.344838    0.831442   14.718045    1.097858    0.670167   46.312684\n",
       "min    1000.000000    1.000000    0.750000    0.000000    0.000000    0.000000\n",
       "25%    1077.000000    2.000000   21.000000    0.000000    0.000000    7.879200\n",
       "50%    1154.000000    3.000000   29.000000    0.000000    0.000000   13.500000\n",
       "75%    1231.000000    3.000000   39.000000    1.000000    0.000000   31.275000\n",
       "max    1308.000000    3.000000   71.000000    8.000000    5.000000  512.329200"
      ]
     },
     "metadata": {},
     "output_type": "display_data"
    },
    {
     "data": {
      "text/plain": [
       "ID           309\n",
       "pclass         3\n",
       "name         309\n",
       "sex            2\n",
       "age           68\n",
       "sibsp          7\n",
       "parch          4\n",
       "ticket       284\n",
       "fare         151\n",
       "cabin         55\n",
       "embarked       3\n",
       "home.dest    134\n",
       "dtype: int64"
      ]
     },
     "metadata": {},
     "output_type": "display_data"
    },
    {
     "data": {
      "text/plain": [
       "ID             int64\n",
       "pclass         int64\n",
       "name          object\n",
       "sex           object\n",
       "age          float64\n",
       "sibsp          int64\n",
       "parch          int64\n",
       "ticket        object\n",
       "fare         float64\n",
       "cabin         object\n",
       "embarked      object\n",
       "home.dest     object\n",
       "dtype: object"
      ]
     },
     "metadata": {},
     "output_type": "display_data"
    }
   ],
   "source": [
    "display(data_unknown.shape)\n",
    "display(data_unknown.info())\n",
    "display(data_unknown.describe())\n",
    "display(data_unknown.nunique())\n",
    "display(data_unknown.dtypes)"
   ]
  },
  {
   "cell_type": "markdown",
   "id": "b740a77d-7a7c-4203-a004-5acd9b6eec78",
   "metadata": {},
   "source": [
    "Úprava nových dat stejným způsobem, jako při trénování a validaci."
   ]
  },
  {
   "cell_type": "code",
   "execution_count": 51,
   "id": "ac855bbb-c729-4d3a-acd0-d52003983d6f",
   "metadata": {
    "tags": []
   },
   "outputs": [
    {
     "data": {
      "text/html": [
       "<div>\n",
       "<style scoped>\n",
       "    .dataframe tbody tr th:only-of-type {\n",
       "        vertical-align: middle;\n",
       "    }\n",
       "\n",
       "    .dataframe tbody tr th {\n",
       "        vertical-align: top;\n",
       "    }\n",
       "\n",
       "    .dataframe thead th {\n",
       "        text-align: right;\n",
       "    }\n",
       "</style>\n",
       "<table border=\"1\" class=\"dataframe\">\n",
       "  <thead>\n",
       "    <tr style=\"text-align: right;\">\n",
       "      <th></th>\n",
       "      <th>ID</th>\n",
       "      <th>pclass</th>\n",
       "      <th>sex</th>\n",
       "      <th>age</th>\n",
       "      <th>sibsp</th>\n",
       "      <th>parch</th>\n",
       "      <th>fare</th>\n",
       "      <th>embarked</th>\n",
       "      <th>fam</th>\n",
       "    </tr>\n",
       "  </thead>\n",
       "  <tbody>\n",
       "    <tr>\n",
       "      <th>0</th>\n",
       "      <td>1000</td>\n",
       "      <td>3</td>\n",
       "      <td>1</td>\n",
       "      <td>33.0</td>\n",
       "      <td>0</td>\n",
       "      <td>0</td>\n",
       "      <td>8.6625</td>\n",
       "      <td>0</td>\n",
       "      <td>0</td>\n",
       "    </tr>\n",
       "    <tr>\n",
       "      <th>1</th>\n",
       "      <td>1001</td>\n",
       "      <td>1</td>\n",
       "      <td>0</td>\n",
       "      <td>-1</td>\n",
       "      <td>0</td>\n",
       "      <td>0</td>\n",
       "      <td>31.6833</td>\n",
       "      <td>2</td>\n",
       "      <td>0</td>\n",
       "    </tr>\n",
       "    <tr>\n",
       "      <th>2</th>\n",
       "      <td>1002</td>\n",
       "      <td>1</td>\n",
       "      <td>0</td>\n",
       "      <td>-1</td>\n",
       "      <td>1</td>\n",
       "      <td>0</td>\n",
       "      <td>133.6500</td>\n",
       "      <td>2</td>\n",
       "      <td>1</td>\n",
       "    </tr>\n",
       "    <tr>\n",
       "      <th>3</th>\n",
       "      <td>1003</td>\n",
       "      <td>3</td>\n",
       "      <td>1</td>\n",
       "      <td>47.0</td>\n",
       "      <td>0</td>\n",
       "      <td>0</td>\n",
       "      <td>9.0000</td>\n",
       "      <td>2</td>\n",
       "      <td>0</td>\n",
       "    </tr>\n",
       "    <tr>\n",
       "      <th>4</th>\n",
       "      <td>1004</td>\n",
       "      <td>1</td>\n",
       "      <td>0</td>\n",
       "      <td>58.0</td>\n",
       "      <td>0</td>\n",
       "      <td>0</td>\n",
       "      <td>146.5208</td>\n",
       "      <td>0</td>\n",
       "      <td>0</td>\n",
       "    </tr>\n",
       "    <tr>\n",
       "      <th>...</th>\n",
       "      <td>...</td>\n",
       "      <td>...</td>\n",
       "      <td>...</td>\n",
       "      <td>...</td>\n",
       "      <td>...</td>\n",
       "      <td>...</td>\n",
       "      <td>...</td>\n",
       "      <td>...</td>\n",
       "      <td>...</td>\n",
       "    </tr>\n",
       "    <tr>\n",
       "      <th>304</th>\n",
       "      <td>1304</td>\n",
       "      <td>2</td>\n",
       "      <td>1</td>\n",
       "      <td>25.0</td>\n",
       "      <td>0</td>\n",
       "      <td>0</td>\n",
       "      <td>13.0000</td>\n",
       "      <td>2</td>\n",
       "      <td>0</td>\n",
       "    </tr>\n",
       "    <tr>\n",
       "      <th>305</th>\n",
       "      <td>1305</td>\n",
       "      <td>3</td>\n",
       "      <td>1</td>\n",
       "      <td>34.5</td>\n",
       "      <td>0</td>\n",
       "      <td>0</td>\n",
       "      <td>6.4375</td>\n",
       "      <td>0</td>\n",
       "      <td>0</td>\n",
       "    </tr>\n",
       "    <tr>\n",
       "      <th>306</th>\n",
       "      <td>1306</td>\n",
       "      <td>3</td>\n",
       "      <td>1</td>\n",
       "      <td>-1</td>\n",
       "      <td>0</td>\n",
       "      <td>0</td>\n",
       "      <td>7.7500</td>\n",
       "      <td>1</td>\n",
       "      <td>0</td>\n",
       "    </tr>\n",
       "    <tr>\n",
       "      <th>307</th>\n",
       "      <td>1307</td>\n",
       "      <td>1</td>\n",
       "      <td>1</td>\n",
       "      <td>24.0</td>\n",
       "      <td>0</td>\n",
       "      <td>0</td>\n",
       "      <td>79.2000</td>\n",
       "      <td>0</td>\n",
       "      <td>0</td>\n",
       "    </tr>\n",
       "    <tr>\n",
       "      <th>308</th>\n",
       "      <td>1308</td>\n",
       "      <td>3</td>\n",
       "      <td>1</td>\n",
       "      <td>17.0</td>\n",
       "      <td>1</td>\n",
       "      <td>0</td>\n",
       "      <td>7.0542</td>\n",
       "      <td>2</td>\n",
       "      <td>1</td>\n",
       "    </tr>\n",
       "  </tbody>\n",
       "</table>\n",
       "<p>309 rows × 9 columns</p>\n",
       "</div>"
      ],
      "text/plain": [
       "       ID  pclass  sex   age  sibsp  parch      fare  embarked  fam\n",
       "0    1000       3    1  33.0      0      0    8.6625         0    0\n",
       "1    1001       1    0    -1      0      0   31.6833         2    0\n",
       "2    1002       1    0    -1      1      0  133.6500         2    1\n",
       "3    1003       3    1  47.0      0      0    9.0000         2    0\n",
       "4    1004       1    0  58.0      0      0  146.5208         0    0\n",
       "..    ...     ...  ...   ...    ...    ...       ...       ...  ...\n",
       "304  1304       2    1  25.0      0      0   13.0000         2    0\n",
       "305  1305       3    1  34.5      0      0    6.4375         0    0\n",
       "306  1306       3    1    -1      0      0    7.7500         1    0\n",
       "307  1307       1    1  24.0      0      0   79.2000         0    0\n",
       "308  1308       3    1  17.0      1      0    7.0542         2    1\n",
       "\n",
       "[309 rows x 9 columns]"
      ]
     },
     "execution_count": 51,
     "metadata": {},
     "output_type": "execute_result"
    }
   ],
   "source": [
    "data_unknown[\"sex\"] = data_unknown[\"sex\"].astype(\"category\").cat.codes    \n",
    "\n",
    "data_unknown[\"embarked\"] = data_unknown[\"embarked\"].astype(\"category\").cat.codes \n",
    "df.embarked = df.embarked.replace(0, -1)\n",
    "\n",
    "data_unknown[\"fam\"] = data_unknown[\"sibsp\"] + data_unknown[\"parch\"]\n",
    "\n",
    "data_unknown = data_unknown.drop('home.dest', axis = 1)\n",
    "data_unknown = data_unknown.drop('cabin', axis = 1)\n",
    "data_unknown = data_unknown.drop('ticket', axis = 1)\n",
    "data_unknown = data_unknown.drop('name', axis = 1)\n",
    "\n",
    "data_unknown = data_unknown.fillna('-1')\n",
    "\n",
    "data_unknown"
   ]
  },
  {
   "cell_type": "markdown",
   "id": "e08102f3-0d1a-40bf-9a49-9b18d7f9119f",
   "metadata": {},
   "source": [
    "Nyní na upravená data pošlu natrénovaný rozhodovací strom."
   ]
  },
  {
   "cell_type": "code",
   "execution_count": 52,
   "id": "d13701fd-d34d-4912-b768-0206be969f03",
   "metadata": {
    "tags": []
   },
   "outputs": [
    {
     "data": {
      "text/plain": [
       "array([1, 1, 1, 0, 1, 1, 0, 0, 0, 1, 1, 1, 0, 1, 1, 1, 1, 1, 0, 0, 0, 1,\n",
       "       0, 1, 1, 0, 1, 1, 1, 0, 1, 1, 1, 1, 1, 1, 1, 0, 1, 1, 1, 0, 0, 1,\n",
       "       1, 0, 1, 1, 0, 0, 1, 1, 0, 1, 0, 0, 1, 1, 1, 1, 0, 0, 0, 0, 0, 1,\n",
       "       1, 1, 1, 1, 0, 1, 1, 1, 1, 1, 1, 1, 1, 0, 1, 1, 1, 1, 0, 1, 0, 0,\n",
       "       0, 0, 0, 0, 0, 1, 1, 1, 1, 0, 0, 1, 0, 1, 1, 1, 1, 1, 0, 0, 0, 0,\n",
       "       1, 0, 0, 1, 0, 1, 1, 0, 0, 0, 0, 0, 1, 1, 1, 1, 1, 1, 1, 1, 0, 1,\n",
       "       0, 1, 1, 1, 1, 1, 1, 0, 1, 0, 0, 1, 1, 1, 0, 1, 1, 0, 1, 1, 1, 1,\n",
       "       1, 0, 0, 1, 1, 1, 1, 1, 1, 1, 1, 0, 0, 1, 1, 1, 1, 0, 1, 1, 0, 0,\n",
       "       1, 1, 1, 1, 1, 1, 0, 1, 1, 0, 1, 1, 1, 1, 1, 1, 1, 1, 1, 1, 1, 1,\n",
       "       1, 1, 0, 1, 1, 0, 0, 0, 0, 1, 1, 1, 1, 0, 1, 1, 1, 1, 0, 1, 1, 1,\n",
       "       1, 1, 0, 1, 1, 1, 1, 0, 1, 1, 1, 0, 0, 1, 1, 1, 0, 1, 0, 1, 0, 0,\n",
       "       0, 0, 0, 1, 1, 0, 0, 1, 1, 1, 1, 0, 1, 1, 1, 1, 0, 1, 1, 0, 1, 1,\n",
       "       0, 0, 1, 0, 0, 1, 0, 1, 1, 0, 1, 0, 1, 0, 1, 1, 1, 1, 1, 0, 1, 1,\n",
       "       1, 0, 0, 1, 1, 1, 1, 0, 1, 1, 0, 1, 1, 1, 1, 1, 0, 1, 0, 1, 1, 0,\n",
       "       1], dtype=int64)"
      ]
     },
     "execution_count": 52,
     "metadata": {},
     "output_type": "execute_result"
    }
   ],
   "source": [
    "y_unknown_pred = clf_tree.predict(data_unknown)\n",
    "y_unknown_pred"
   ]
  },
  {
   "cell_type": "code",
   "execution_count": 53,
   "id": "5cd9cb40-4448-4a42-97e5-edc256d70d58",
   "metadata": {
    "tags": []
   },
   "outputs": [
    {
     "data": {
      "text/html": [
       "<div>\n",
       "<style scoped>\n",
       "    .dataframe tbody tr th:only-of-type {\n",
       "        vertical-align: middle;\n",
       "    }\n",
       "\n",
       "    .dataframe tbody tr th {\n",
       "        vertical-align: top;\n",
       "    }\n",
       "\n",
       "    .dataframe thead th {\n",
       "        text-align: right;\n",
       "    }\n",
       "</style>\n",
       "<table border=\"1\" class=\"dataframe\">\n",
       "  <thead>\n",
       "    <tr style=\"text-align: right;\">\n",
       "      <th></th>\n",
       "      <th>ID</th>\n",
       "      <th>survived</th>\n",
       "    </tr>\n",
       "  </thead>\n",
       "  <tbody>\n",
       "    <tr>\n",
       "      <th>0</th>\n",
       "      <td>1000</td>\n",
       "      <td>1</td>\n",
       "    </tr>\n",
       "    <tr>\n",
       "      <th>1</th>\n",
       "      <td>1001</td>\n",
       "      <td>1</td>\n",
       "    </tr>\n",
       "    <tr>\n",
       "      <th>2</th>\n",
       "      <td>1002</td>\n",
       "      <td>1</td>\n",
       "    </tr>\n",
       "    <tr>\n",
       "      <th>3</th>\n",
       "      <td>1003</td>\n",
       "      <td>0</td>\n",
       "    </tr>\n",
       "    <tr>\n",
       "      <th>4</th>\n",
       "      <td>1004</td>\n",
       "      <td>1</td>\n",
       "    </tr>\n",
       "    <tr>\n",
       "      <th>...</th>\n",
       "      <td>...</td>\n",
       "      <td>...</td>\n",
       "    </tr>\n",
       "    <tr>\n",
       "      <th>304</th>\n",
       "      <td>1304</td>\n",
       "      <td>0</td>\n",
       "    </tr>\n",
       "    <tr>\n",
       "      <th>305</th>\n",
       "      <td>1305</td>\n",
       "      <td>1</td>\n",
       "    </tr>\n",
       "    <tr>\n",
       "      <th>306</th>\n",
       "      <td>1306</td>\n",
       "      <td>1</td>\n",
       "    </tr>\n",
       "    <tr>\n",
       "      <th>307</th>\n",
       "      <td>1307</td>\n",
       "      <td>0</td>\n",
       "    </tr>\n",
       "    <tr>\n",
       "      <th>308</th>\n",
       "      <td>1308</td>\n",
       "      <td>1</td>\n",
       "    </tr>\n",
       "  </tbody>\n",
       "</table>\n",
       "<p>309 rows × 2 columns</p>\n",
       "</div>"
      ],
      "text/plain": [
       "       ID  survived\n",
       "0    1000         1\n",
       "1    1001         1\n",
       "2    1002         1\n",
       "3    1003         0\n",
       "4    1004         1\n",
       "..    ...       ...\n",
       "304  1304         0\n",
       "305  1305         1\n",
       "306  1306         1\n",
       "307  1307         0\n",
       "308  1308         1\n",
       "\n",
       "[309 rows x 2 columns]"
      ]
     },
     "metadata": {},
     "output_type": "display_data"
    },
    {
     "data": {
      "text/plain": [
       "Index(['ID', 'survived'], dtype='object')"
      ]
     },
     "metadata": {},
     "output_type": "display_data"
    }
   ],
   "source": [
    "prediction = pd.DataFrame()\n",
    "\n",
    "prediction.rename(columns={'': 'ID'}, inplace=True)\n",
    "prediction[\"ID\"] = data_unknown[\"ID\"]\n",
    "prediction[\"survived\"] = y_unknown_pred.tolist()\n",
    "\n",
    "display(prediction)\n",
    "display(prediction.columns)"
   ]
  },
  {
   "cell_type": "markdown",
   "id": "7de49d9f-0687-4c65-8f6a-071d340e9f19",
   "metadata": {},
   "source": [
    "Uložení do CSV"
   ]
  },
  {
   "cell_type": "code",
   "execution_count": 54,
   "id": "54f7102d-8eb4-4312-916c-4ad06e50d6ab",
   "metadata": {
    "tags": []
   },
   "outputs": [],
   "source": [
    "prediction.to_csv('results.csv')"
   ]
  }
 ],
 "metadata": {
  "kernelspec": {
   "display_name": "Python 3 (ipykernel)",
   "language": "python",
   "name": "python3"
  },
  "language_info": {
   "codemirror_mode": {
    "name": "ipython",
    "version": 3
   },
   "file_extension": ".py",
   "mimetype": "text/x-python",
   "name": "python",
   "nbconvert_exporter": "python",
   "pygments_lexer": "ipython3",
   "version": "3.11.5"
  }
 },
 "nbformat": 4,
 "nbformat_minor": 5
}
